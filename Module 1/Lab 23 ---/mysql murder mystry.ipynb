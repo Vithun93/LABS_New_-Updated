{
 "cells": [
  {
   "cell_type": "code",
   "execution_count": null,
   "id": "35b45b89",
   "metadata": {},
   "outputs": [],
   "source": [
    "WITH witness1 AS (\n",
    "    SELECT id FROM person\n",
    "    WHERE address_street_name = 'Northwestern Dr'\n",
    "    ORDER BY address_number DESC LIMIT 1\n",
    "), witness2 AS (\n",
    "    SELECT id FROM person\n",
    "    WHERE INSTR(name, 'Annabel') > 0 AND address_street_name = 'Franklin Ave'\n",
    "), witnesses AS (\n",
    "    SELECT *, 1 AS witness FROM witness1\n",
    "    UNION\n",
    "    SELECT *, 2 AS witness FROM witness2\n",
    ")\n",
    "SELECT witness, transcript FROM witnesses\n",
    "LEFT JOIN interview ON witnesses.id = interview.person_id"
   ]
  },
  {
   "cell_type": "code",
   "execution_count": null,
   "id": "59ee5839",
   "metadata": {},
   "outputs": [],
   "source": [
    "WITH gym_checkins AS (\n",
    "    SELECT person_id, name\n",
    "    FROM get_fit_now_member\n",
    "    LEFT JOIN get_fit_now_check_in ON get_fit_now_member.id = get_fit_now_check_in.membership_id\n",
    "    WHERE membership_status = 'gold' -- Only gold members have those bags\n",
    "      AND id REGEXP '^48Z' -- membership number on the bag started with \"48Z\"\n",
    "      AND check_in_date = '20180109' -- Witness 2 recognized him on January the 9th\n",
    "), suspects AS (\n",
    "    SELECT gym_checkins.person_id, gym_checkins.name, plate_number, gender\n",
    "    FROM gym_checkins\n",
    "    LEFT JOIN person ON gym_checkins.person_id = person.id\n",
    "    LEFT JOIN drivers_license ON person.license_id = drivers_license.id\n",
    ")\n",
    "SELECT * FROM suspects\n",
    "-- The man got into a car with a plate that included \"H42W\"\n",
    "WHERE INSTR(plate_number, 'H42W') > 0 AND gender = 'male'"
   ]
  },
  {
   "cell_type": "code",
   "execution_count": null,
   "id": "b79278d9",
   "metadata": {},
   "outputs": [],
   "source": [
    "INSERT INTO solution VALUES (1, 'Jeremy Bowers');\n",
    "        \n",
    "        SELECT value FROM solution;"
   ]
  }
 ],
 "metadata": {
  "kernelspec": {
   "display_name": "Python 3 (ipykernel)",
   "language": "python",
   "name": "python3"
  },
  "language_info": {
   "codemirror_mode": {
    "name": "ipython",
    "version": 3
   },
   "file_extension": ".py",
   "mimetype": "text/x-python",
   "name": "python",
   "nbconvert_exporter": "python",
   "pygments_lexer": "ipython3",
   "version": "3.9.12"
  }
 },
 "nbformat": 4,
 "nbformat_minor": 5
}
