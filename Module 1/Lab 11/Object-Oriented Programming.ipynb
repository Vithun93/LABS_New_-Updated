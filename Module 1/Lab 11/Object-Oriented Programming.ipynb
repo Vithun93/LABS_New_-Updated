{
 "cells": [
  {
   "cell_type": "code",
   "execution_count": 2,
   "id": "4d34abdb",
   "metadata": {},
   "outputs": [],
   "source": [
    "import numpy as np"
   ]
  },
  {
   "cell_type": "markdown",
   "id": "10901e3b",
   "metadata": {},
   "source": [
    "Define a method/function that removes from a given array of integers all the values contained in a second array."
   ]
  },
  {
   "cell_type": "code",
   "execution_count": 3,
   "id": "01e32cd4",
   "metadata": {},
   "outputs": [],
   "source": [
    "integer_list =  [1, 1, 2 ,3 ,1 ,2 ,3 ,4]\n",
    "values_list = [1, 3]"
   ]
  },
  {
   "cell_type": "code",
   "execution_count": 4,
   "id": "6ee63a12",
   "metadata": {},
   "outputs": [
    {
     "ename": "AttributeError",
     "evalue": "'list' object has no attribute 'remove_'",
     "output_type": "error",
     "traceback": [
      "\u001b[0;31m---------------------------------------------------------------------------\u001b[0m",
      "\u001b[0;31mAttributeError\u001b[0m                            Traceback (most recent call last)",
      "Input \u001b[0;32mIn [4]\u001b[0m, in \u001b[0;36m<cell line: 2>\u001b[0;34m()\u001b[0m\n\u001b[1;32m      1\u001b[0m l\u001b[38;5;241m=\u001b[39m[]\n\u001b[0;32m----> 2\u001b[0m \u001b[43ml\u001b[49m\u001b[38;5;241;43m.\u001b[39;49m\u001b[43mremove_\u001b[49m(integer_list, values_list)\n",
      "\u001b[0;31mAttributeError\u001b[0m: 'list' object has no attribute 'remove_'"
     ]
    }
   ],
   "source": [
    "l=[]\n",
    "l.remove_(integer_list, values_list) "
   ]
  },
  {
   "cell_type": "code",
   "execution_count": 5,
   "id": "a51a76b5",
   "metadata": {},
   "outputs": [
    {
     "ename": "SyntaxError",
     "evalue": "invalid syntax (104006917.py, line 1)",
     "output_type": "error",
     "traceback": [
      "\u001b[0;36m  Input \u001b[0;32mIn [5]\u001b[0;36m\u001b[0m\n\u001b[0;31m    def remove_el (l1,l2)\u001b[0m\n\u001b[0m                         ^\u001b[0m\n\u001b[0;31mSyntaxError\u001b[0m\u001b[0;31m:\u001b[0m invalid syntax\n"
     ]
    }
   ],
   "source": [
    "def remove_el (l1,l2)\n",
    "for i in l1:\n",
    "    if i not in l2:\n",
    "        ll.append(i)\n",
    "        return ll"
   ]
  },
  {
   "cell_type": "code",
   "execution_count": 6,
   "id": "f5b84498",
   "metadata": {},
   "outputs": [],
   "source": [
    "def int_digits (integers, digits):\n",
    "    digit_counts=[]\n",
    "    results = []\n",
    "    \n",
    "    int_str= ''.join([str])\n"
   ]
  },
  {
   "cell_type": "code",
   "execution_count": null,
   "id": "027ecb53",
   "metadata": {},
   "outputs": [],
   "source": [
    "def ordered_count(num):\n",
    "    input_order =[]\n",
    "    for i in num:\n",
    "        if i not in input_order:\n",
    "            input_order.append(i)\n",
    "    \n",
    "    count = {}\n",
    "    for "
   ]
  }
 ],
 "metadata": {
  "kernelspec": {
   "display_name": "Python 3 (ipykernel)",
   "language": "python",
   "name": "python3"
  },
  "language_info": {
   "codemirror_mode": {
    "name": "ipython",
    "version": 3
   },
   "file_extension": ".py",
   "mimetype": "text/x-python",
   "name": "python",
   "nbconvert_exporter": "python",
   "pygments_lexer": "ipython3",
   "version": "3.9.12"
  }
 },
 "nbformat": 4,
 "nbformat_minor": 5
}
