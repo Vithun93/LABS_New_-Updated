{
 "cells": [
  {
   "cell_type": "code",
   "execution_count": 1,
   "id": "959cadd6",
   "metadata": {},
   "outputs": [
    {
     "data": {
      "text/plain": [
       "17"
      ]
     },
     "execution_count": 1,
     "metadata": {},
     "output_type": "execute_result"
    }
   ],
   "source": [
    "#Counting sheeps\n",
    "\n",
    "sheeps =[True,  True,  True,  False,\n",
    "  True,  True,  True,  True ,\n",
    "  True,  False, True,  False,\n",
    "  True,  False, False, True ,\n",
    "  True,  True,  True,  True ,\n",
    "  False, False, True,  True]\n",
    "\n",
    "def count_sheeps(sheeps):\n",
    "    return sheeps.count(True)\n",
    "\n",
    "count_sheeps(sheeps)"
   ]
  },
  {
   "cell_type": "code",
   "execution_count": 2,
   "id": "6ea00fbf",
   "metadata": {},
   "outputs": [
    {
     "data": {
      "text/plain": [
       "['Keep', 'Keep', 'Keep']"
      ]
     },
     "execution_count": 2,
     "metadata": {},
     "output_type": "execute_result"
    }
   ],
   "source": [
    "#RemovingElements\n",
    "\n",
    "my_list = [\"Keep\", \"Remove\", \"Keep\", \"Remove\", \"Keep\", \"Remove\"]\n",
    "\n",
    "def remove_every_other(my_list):\n",
    "    return my_list[::2]\n",
    "        \n",
    "remove_every_other(my_list)"
   ]
  },
  {
   "cell_type": "code",
   "execution_count": 6,
   "id": "558e203e",
   "metadata": {},
   "outputs": [
    {
     "data": {
      "text/plain": [
       "[8, 7, 6, 5, 4, 3, 2, 1]"
      ]
     },
     "execution_count": 6,
     "metadata": {},
     "output_type": "execute_result"
    }
   ],
   "source": [
    "#Reversing a number into an array\n",
    "\n",
    "n = 12345678\n",
    "\n",
    "def digitize(n):\n",
    "       return [int(i) for i in str(n)][::-1]\n",
    "\n",
    "digitize(12345678)"
   ]
  },
  {
   "cell_type": "code",
   "execution_count": 38,
   "id": "43a991bc",
   "metadata": {},
   "outputs": [],
   "source": [
    "def square_digits(numbers):\n",
    "    l=[]\n",
    "    \n",
    "    for i in str(num):\n",
    "            l.append(str(int(i)**2))\n",
    "    return int(\"\".join(l))"
   ]
  },
  {
   "cell_type": "code",
   "execution_count": 10,
   "id": "00db8992",
   "metadata": {},
   "outputs": [
    {
     "data": {
      "text/plain": [
       "[(1, 3), (3, 2)]"
      ]
     },
     "execution_count": 10,
     "metadata": {},
     "output_type": "execute_result"
    }
   ],
   "source": [
    "#Counting total Occurence \n",
    "\n",
    "\n",
    "integers_list =  [1, 1, 2 ,3 ,1 ,2 ,3 ,4]\n",
    "digits_list = [1, 3]\n",
    "\n",
    "def count_spec_digits(integers_list, digits_list):\n",
    "    mydict = {}\n",
    "    for d in digits_list:\n",
    "        mydict[d]=integers_list.count(d)\n",
    "    return [(key, value) for key, value in mydict.items()]\n",
    "\n",
    "count_spec_digits(integers_list, digits_list)\n",
    "    "
   ]
  },
  {
   "cell_type": "code",
   "execution_count": null,
   "id": "5ff1b66c",
   "metadata": {},
   "outputs": [],
   "source": [
    "import math.\n",
    "math. sqrt( x )"
   ]
  },
  {
   "cell_type": "code",
   "execution_count": null,
   "id": "a8f3604e",
   "metadata": {},
   "outputs": [],
   "source": []
  },
  {
   "cell_type": "code",
   "execution_count": null,
   "id": "6cc8af2b",
   "metadata": {},
   "outputs": [],
   "source": []
  },
  {
   "cell_type": "code",
   "execution_count": null,
   "id": "42b1be27",
   "metadata": {},
   "outputs": [],
   "source": []
  },
  {
   "cell_type": "code",
   "execution_count": null,
   "id": "01a51859",
   "metadata": {},
   "outputs": [],
   "source": []
  },
  {
   "cell_type": "code",
   "execution_count": null,
   "id": "76bc90a8",
   "metadata": {},
   "outputs": [],
   "source": []
  },
  {
   "cell_type": "code",
   "execution_count": null,
   "id": "004d8741",
   "metadata": {},
   "outputs": [],
   "source": []
  },
  {
   "cell_type": "code",
   "execution_count": null,
   "id": "e7aadff3",
   "metadata": {},
   "outputs": [],
   "source": []
  },
  {
   "cell_type": "code",
   "execution_count": null,
   "id": "36dbffcf",
   "metadata": {},
   "outputs": [],
   "source": []
  }
 ],
 "metadata": {
  "kernelspec": {
   "display_name": "Python 3 (ipykernel)",
   "language": "python",
   "name": "python3"
  },
  "language_info": {
   "codemirror_mode": {
    "name": "ipython",
    "version": 3
   },
   "file_extension": ".py",
   "mimetype": "text/x-python",
   "name": "python",
   "nbconvert_exporter": "python",
   "pygments_lexer": "ipython3",
   "version": "3.9.12"
  }
 },
 "nbformat": 4,
 "nbformat_minor": 5
}
