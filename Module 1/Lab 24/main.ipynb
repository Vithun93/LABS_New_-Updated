{
 "cells": [
  {
   "cell_type": "markdown",
   "metadata": {},
   "source": [
    "# Intrduction to NumPy\n",
    "\n",
    "\n",
    "#### 1. Import NumPy under the name np."
   ]
  },
  {
   "cell_type": "code",
   "execution_count": 44,
   "metadata": {},
   "outputs": [],
   "source": [
    "import numpy as np"
   ]
  },
  {
   "cell_type": "markdown",
   "metadata": {},
   "source": [
    "#### 2. Print your NumPy version."
   ]
  },
  {
   "cell_type": "code",
   "execution_count": 45,
   "metadata": {},
   "outputs": [
    {
     "name": "stdout",
     "output_type": "stream",
     "text": [
      "1.21.5\n"
     ]
    }
   ],
   "source": [
    "print(np.__version__)"
   ]
  },
  {
   "cell_type": "markdown",
   "metadata": {},
   "source": [
    "#### 3. Generate a 2x3x5 3-dimensional array with random values. Assign the array to variable *a*.\n",
    "**Challenge**: there are at least three easy ways that use numpy to generate random arrays. How many ways can you find?"
   ]
  },
  {
   "cell_type": "code",
   "execution_count": 46,
   "metadata": {},
   "outputs": [
    {
     "data": {
      "text/plain": [
       "array([[[0.14608064, 0.35742795, 0.4823327 , 0.91435777, 0.15806348],\n",
       "        [0.94523112, 0.45878945, 0.75610261, 0.62940877, 0.38619521],\n",
       "        [0.39392211, 0.35527998, 0.13130763, 0.44322237, 0.44018187]],\n",
       "\n",
       "       [[0.58013071, 0.35870736, 0.24747152, 0.61572553, 0.40721392],\n",
       "        [0.10601934, 0.42301899, 0.235388  , 0.24323322, 0.45110478],\n",
       "        [0.43036463, 0.21915012, 0.25143974, 0.61935852, 0.65638166]]])"
      ]
     },
     "execution_count": 46,
     "metadata": {},
     "output_type": "execute_result"
    }
   ],
   "source": [
    "a=np.random.rand(2,3,5)\n",
    "a"
   ]
  },
  {
   "cell_type": "code",
   "execution_count": 47,
   "metadata": {},
   "outputs": [
    {
     "name": "stderr",
     "output_type": "stream",
     "text": [
      "C:\\Users\\osile\\AppData\\Local\\Temp\\ipykernel_7444\\647403137.py:1: DeprecationWarning: This function is deprecated. Please call randint(1, 10 + 1) instead\n",
      "  np.random.random_integers(10, size=(2,3,5))\n"
     ]
    },
    {
     "data": {
      "text/plain": [
       "array([[[ 6, 10,  8,  8,  4],\n",
       "        [ 9,  9,  5,  4,  5],\n",
       "        [ 6,  4,  6,  3,  3]],\n",
       "\n",
       "       [[ 3, 10,  1,  5,  1],\n",
       "        [ 4,  2,  2,  9,  2],\n",
       "        [ 3,  5,  9,  9,  5]]])"
      ]
     },
     "execution_count": 47,
     "metadata": {},
     "output_type": "execute_result"
    }
   ],
   "source": [
    "np.random.random_integers(10, size=(2,3,5))"
   ]
  },
  {
   "cell_type": "code",
   "execution_count": 48,
   "metadata": {},
   "outputs": [
    {
     "data": {
      "text/plain": [
       "array([[[ 2.48433251,  0.21207614, -0.83699436,  0.95179626,\n",
       "         -0.14561516],\n",
       "        [-0.9602489 ,  0.25946738, -0.82291245,  1.33100416,\n",
       "         -0.04603204],\n",
       "        [-0.03081788, -0.1282471 ,  0.56250889, -1.75319084,\n",
       "          1.48501642]],\n",
       "\n",
       "       [[-0.30439357, -0.14424002, -0.34796603,  0.37920142,\n",
       "         -0.42534755],\n",
       "        [-0.23439249,  0.88867008,  0.68256947, -0.29609843,\n",
       "          1.24187778],\n",
       "        [ 2.28507711, -0.04527445,  1.66025814,  0.91667732,\n",
       "          0.42910658]]])"
      ]
     },
     "execution_count": 48,
     "metadata": {},
     "output_type": "execute_result"
    }
   ],
   "source": [
    "R3=np.random.randn(2,3,5)\n",
    "R3"
   ]
  },
  {
   "cell_type": "markdown",
   "metadata": {},
   "source": [
    "#### 4. Print *a*.\n"
   ]
  },
  {
   "cell_type": "code",
   "execution_count": 49,
   "metadata": {},
   "outputs": [
    {
     "name": "stdout",
     "output_type": "stream",
     "text": [
      "[[[0.14608064 0.35742795 0.4823327  0.91435777 0.15806348]\n",
      "  [0.94523112 0.45878945 0.75610261 0.62940877 0.38619521]\n",
      "  [0.39392211 0.35527998 0.13130763 0.44322237 0.44018187]]\n",
      "\n",
      " [[0.58013071 0.35870736 0.24747152 0.61572553 0.40721392]\n",
      "  [0.10601934 0.42301899 0.235388   0.24323322 0.45110478]\n",
      "  [0.43036463 0.21915012 0.25143974 0.61935852 0.65638166]]]\n"
     ]
    }
   ],
   "source": [
    "print(a)"
   ]
  },
  {
   "cell_type": "markdown",
   "metadata": {},
   "source": [
    "#### 5. Create a 5x2x3 3-dimensional array with all values equaling 1. Assign the array to variable *b*."
   ]
  },
  {
   "cell_type": "code",
   "execution_count": 50,
   "metadata": {},
   "outputs": [
    {
     "name": "stdout",
     "output_type": "stream",
     "text": [
      "[[[1 1 1]\n",
      "  [1 1 1]]\n",
      "\n",
      " [[1 1 1]\n",
      "  [1 1 1]]\n",
      "\n",
      " [[1 1 1]\n",
      "  [1 1 1]]\n",
      "\n",
      " [[1 1 1]\n",
      "  [1 1 1]]\n",
      "\n",
      " [[1 1 1]\n",
      "  [1 1 1]]]\n"
     ]
    }
   ],
   "source": [
    "import numpy as np\n",
    "\n",
    "b=np.ones((5, 2, 3), dtype=int)\n",
    "print(b)"
   ]
  },
  {
   "cell_type": "code",
   "execution_count": 51,
   "metadata": {},
   "outputs": [
    {
     "data": {
      "text/plain": [
       "(2, 3, 5)"
      ]
     },
     "execution_count": 51,
     "metadata": {},
     "output_type": "execute_result"
    }
   ],
   "source": [
    "a.shape"
   ]
  },
  {
   "cell_type": "markdown",
   "metadata": {},
   "source": [
    "#### 6. Print *b*."
   ]
  },
  {
   "cell_type": "code",
   "execution_count": 52,
   "metadata": {},
   "outputs": [
    {
     "name": "stdout",
     "output_type": "stream",
     "text": [
      "[[[1 1 1]\n",
      "  [1 1 1]]\n",
      "\n",
      " [[1 1 1]\n",
      "  [1 1 1]]\n",
      "\n",
      " [[1 1 1]\n",
      "  [1 1 1]]\n",
      "\n",
      " [[1 1 1]\n",
      "  [1 1 1]]\n",
      "\n",
      " [[1 1 1]\n",
      "  [1 1 1]]]\n"
     ]
    }
   ],
   "source": [
    "print(b)"
   ]
  },
  {
   "cell_type": "markdown",
   "metadata": {},
   "source": [
    "#### 7. Do *a* and *b* have the same size? How do you prove that in Python code?"
   ]
  },
  {
   "cell_type": "code",
   "execution_count": 53,
   "metadata": {},
   "outputs": [
    {
     "name": "stdout",
     "output_type": "stream",
     "text": [
      "False\n"
     ]
    }
   ],
   "source": [
    "#yes\n",
    "if b is a:\n",
    "    print(True)\n",
    "else:\n",
    "    print(False)\n"
   ]
  },
  {
   "cell_type": "markdown",
   "metadata": {},
   "source": [
    "#### 8. Are you able to add *a* and *b*? Why or why not?\n"
   ]
  },
  {
   "cell_type": "code",
   "execution_count": 54,
   "metadata": {},
   "outputs": [
    {
     "name": "stdout",
     "output_type": "stream",
     "text": [
      "[[[0.14608064 0.35742795 0.4823327  0.91435777 0.15806348]\n",
      "  [0.94523112 0.45878945 0.75610261 0.62940877 0.38619521]\n",
      "  [0.39392211 0.35527998 0.13130763 0.44322237 0.44018187]]\n",
      "\n",
      " [[0.58013071 0.35870736 0.24747152 0.61572553 0.40721392]\n",
      "  [0.10601934 0.42301899 0.235388   0.24323322 0.45110478]\n",
      "  [0.43036463 0.21915012 0.25143974 0.61935852 0.65638166]]] [[[1 1 1]\n",
      "  [1 1 1]]\n",
      "\n",
      " [[1 1 1]\n",
      "  [1 1 1]]\n",
      "\n",
      " [[1 1 1]\n",
      "  [1 1 1]]\n",
      "\n",
      " [[1 1 1]\n",
      "  [1 1 1]]\n",
      "\n",
      " [[1 1 1]\n",
      "  [1 1 1]]]\n"
     ]
    }
   ],
   "source": [
    "print(a,b)"
   ]
  },
  {
   "cell_type": "code",
   "execution_count": 55,
   "metadata": {},
   "outputs": [
    {
     "ename": "ValueError",
     "evalue": "operands could not be broadcast together with shapes (2,3,5) (5,2,3) ",
     "output_type": "error",
     "traceback": [
      "\u001b[1;31m---------------------------------------------------------------------------\u001b[0m",
      "\u001b[1;31mValueError\u001b[0m                                Traceback (most recent call last)",
      "Input \u001b[1;32mIn [55]\u001b[0m, in \u001b[0;36m<cell line: 1>\u001b[1;34m()\u001b[0m\n\u001b[1;32m----> 1\u001b[0m \u001b[43mnp\u001b[49m\u001b[38;5;241;43m.\u001b[39;49m\u001b[43madd\u001b[49m\u001b[43m(\u001b[49m\u001b[43ma\u001b[49m\u001b[43m,\u001b[49m\u001b[43mb\u001b[49m\u001b[43m)\u001b[49m\n",
      "\u001b[1;31mValueError\u001b[0m: operands could not be broadcast together with shapes (2,3,5) (5,2,3) "
     ]
    }
   ],
   "source": [
    "np.add(a,b)"
   ]
  },
  {
   "cell_type": "code",
   "execution_count": null,
   "metadata": {},
   "outputs": [],
   "source": [
    "#No they are not the same type nor shape"
   ]
  },
  {
   "cell_type": "markdown",
   "metadata": {},
   "source": [
    "#### 9. Transpose *b* so that it has the same structure of *a* (i.e. become a 2x3x5 array). Assign the transposed array to variable *c*."
   ]
  },
  {
   "cell_type": "code",
   "execution_count": 56,
   "metadata": {},
   "outputs": [
    {
     "name": "stdout",
     "output_type": "stream",
     "text": [
      "[[[1 1 1 1 1]\n",
      "  [1 1 1 1 1]\n",
      "  [1 1 1 1 1]]\n",
      "\n",
      " [[1 1 1 1 1]\n",
      "  [1 1 1 1 1]\n",
      "  [1 1 1 1 1]]]\n"
     ]
    }
   ],
   "source": [
    "c=np.transpose(b, axes=(1,2,0)) \n",
    "print(c)"
   ]
  },
  {
   "cell_type": "code",
   "execution_count": 57,
   "metadata": {},
   "outputs": [
    {
     "data": {
      "text/plain": [
       "(2, 3, 5)"
      ]
     },
     "execution_count": 57,
     "metadata": {},
     "output_type": "execute_result"
    }
   ],
   "source": [
    "c.shape"
   ]
  },
  {
   "cell_type": "markdown",
   "metadata": {},
   "source": [
    "# 10. Try to add *a* and *c*. Now it should work. Assign the sum to variable *d*. But why does it work now?"
   ]
  },
  {
   "cell_type": "code",
   "execution_count": 58,
   "metadata": {},
   "outputs": [
    {
     "name": "stdout",
     "output_type": "stream",
     "text": [
      "[[[1.14608064 1.35742795 1.4823327  1.91435777 1.15806348]\n",
      "  [1.94523112 1.45878945 1.75610261 1.62940877 1.38619521]\n",
      "  [1.39392211 1.35527998 1.13130763 1.44322237 1.44018187]]\n",
      "\n",
      " [[1.58013071 1.35870736 1.24747152 1.61572553 1.40721392]\n",
      "  [1.10601934 1.42301899 1.235388   1.24323322 1.45110478]\n",
      "  [1.43036463 1.21915012 1.25143974 1.61935852 1.65638166]]]\n"
     ]
    }
   ],
   "source": [
    "d=(np.add(a,c))\n",
    "print(d)"
   ]
  },
  {
   "cell_type": "code",
   "execution_count": 59,
   "metadata": {},
   "outputs": [],
   "source": [
    "#yes it worked,the shapes of the arrays the same"
   ]
  },
  {
   "cell_type": "markdown",
   "metadata": {},
   "source": [
    "#### 11. Print *a* and *d*. Notice the difference and relation of the two array in terms of the values? Explain."
   ]
  },
  {
   "cell_type": "code",
   "execution_count": 60,
   "metadata": {},
   "outputs": [
    {
     "name": "stdout",
     "output_type": "stream",
     "text": [
      "[[[0.14608064 0.35742795 0.4823327  0.91435777 0.15806348]\n",
      "  [0.94523112 0.45878945 0.75610261 0.62940877 0.38619521]\n",
      "  [0.39392211 0.35527998 0.13130763 0.44322237 0.44018187]]\n",
      "\n",
      " [[0.58013071 0.35870736 0.24747152 0.61572553 0.40721392]\n",
      "  [0.10601934 0.42301899 0.235388   0.24323322 0.45110478]\n",
      "  [0.43036463 0.21915012 0.25143974 0.61935852 0.65638166]]]\n"
     ]
    },
    {
     "data": {
      "text/plain": [
       "(None,\n",
       " array([[[1.14608064, 1.35742795, 1.4823327 , 1.91435777, 1.15806348],\n",
       "         [1.94523112, 1.45878945, 1.75610261, 1.62940877, 1.38619521],\n",
       "         [1.39392211, 1.35527998, 1.13130763, 1.44322237, 1.44018187]],\n",
       " \n",
       "        [[1.58013071, 1.35870736, 1.24747152, 1.61572553, 1.40721392],\n",
       "         [1.10601934, 1.42301899, 1.235388  , 1.24323322, 1.45110478],\n",
       "         [1.43036463, 1.21915012, 1.25143974, 1.61935852, 1.65638166]]]))"
      ]
     },
     "execution_count": 60,
     "metadata": {},
     "output_type": "execute_result"
    }
   ],
   "source": [
    "print(a ),(d)"
   ]
  },
  {
   "cell_type": "code",
   "execution_count": 61,
   "metadata": {},
   "outputs": [],
   "source": [
    "#they both have the same shape but different elemements"
   ]
  },
  {
   "cell_type": "markdown",
   "metadata": {},
   "source": [
    "#### 12. Multiply *a* and *c*. Assign the result to *e*."
   ]
  },
  {
   "cell_type": "code",
   "execution_count": 62,
   "metadata": {},
   "outputs": [
    {
     "name": "stdout",
     "output_type": "stream",
     "text": [
      "[[[0.14608064 0.35742795 0.4823327  0.91435777 0.15806348]\n",
      "  [0.94523112 0.45878945 0.75610261 0.62940877 0.38619521]\n",
      "  [0.39392211 0.35527998 0.13130763 0.44322237 0.44018187]]\n",
      "\n",
      " [[0.58013071 0.35870736 0.24747152 0.61572553 0.40721392]\n",
      "  [0.10601934 0.42301899 0.235388   0.24323322 0.45110478]\n",
      "  [0.43036463 0.21915012 0.25143974 0.61935852 0.65638166]]]\n",
      "[[[1 1 1 1 1]\n",
      "  [1 1 1 1 1]\n",
      "  [1 1 1 1 1]]\n",
      "\n",
      " [[1 1 1 1 1]\n",
      "  [1 1 1 1 1]\n",
      "  [1 1 1 1 1]]]\n"
     ]
    }
   ],
   "source": [
    "print(a)\n",
    "\n",
    "print(c)"
   ]
  },
  {
   "cell_type": "code",
   "execution_count": 74,
   "metadata": {},
   "outputs": [
    {
     "name": "stdout",
     "output_type": "stream",
     "text": [
      "[[[0.14608064 0.35742795 0.4823327  0.91435777 0.15806348]\n",
      "  [0.94523112 0.45878945 0.75610261 0.62940877 0.38619521]\n",
      "  [0.39392211 0.35527998 0.13130763 0.44322237 0.44018187]]\n",
      "\n",
      " [[0.58013071 0.35870736 0.24747152 0.61572553 0.40721392]\n",
      "  [0.10601934 0.42301899 0.235388   0.24323322 0.45110478]\n",
      "  [0.43036463 0.21915012 0.25143974 0.61935852 0.65638166]]]\n"
     ]
    }
   ],
   "source": [
    "e=print(np.multiply(a, c))"
   ]
  },
  {
   "cell_type": "code",
   "execution_count": null,
   "metadata": {},
   "outputs": [],
   "source": []
  },
  {
   "cell_type": "markdown",
   "metadata": {},
   "source": [
    "#### 13. Does *e* equal to *a*? Why or why not?\n"
   ]
  },
  {
   "cell_type": "code",
   "execution_count": null,
   "metadata": {},
   "outputs": [],
   "source": [
    "# yes e = a"
   ]
  },
  {
   "cell_type": "markdown",
   "metadata": {},
   "source": [
    "#### 14. Identify the max, min, and mean values in *d*. Assign those values to variables *d_max*, *d_min* and *d_mean*."
   ]
  },
  {
   "cell_type": "code",
   "execution_count": 75,
   "metadata": {},
   "outputs": [
    {
     "name": "stdout",
     "output_type": "stream",
     "text": [
      "[[[1.14608064 1.35742795 1.4823327  1.91435777 1.15806348]\n",
      "  [1.94523112 1.45878945 1.75610261 1.62940877 1.38619521]\n",
      "  [1.39392211 1.35527998 1.13130763 1.44322237 1.44018187]]\n",
      "\n",
      " [[1.58013071 1.35870736 1.24747152 1.61572553 1.40721392]\n",
      "  [1.10601934 1.42301899 1.235388   1.24323322 1.45110478]\n",
      "  [1.43036463 1.21915012 1.25143974 1.61935852 1.65638166]]]\n"
     ]
    }
   ],
   "source": [
    "print(d)"
   ]
  },
  {
   "cell_type": "code",
   "execution_count": 76,
   "metadata": {},
   "outputs": [
    {
     "name": "stdout",
     "output_type": "stream",
     "text": [
      "1.945231122830155\n"
     ]
    }
   ],
   "source": [
    "d_max=(np.max(d))\n",
    "print(d_max)"
   ]
  },
  {
   "cell_type": "code",
   "execution_count": 77,
   "metadata": {},
   "outputs": [
    {
     "name": "stdout",
     "output_type": "stream",
     "text": [
      "1.1060193359677146\n"
     ]
    }
   ],
   "source": [
    "d_min=(np.min(d))\n",
    "print(d_min)"
   ]
  },
  {
   "cell_type": "code",
   "execution_count": 78,
   "metadata": {},
   "outputs": [
    {
     "name": "stdout",
     "output_type": "stream",
     "text": [
      "1.4280870561654384\n"
     ]
    }
   ],
   "source": [
    "d_mean=(np.mean(d))\n",
    "print(d_mean)"
   ]
  },
  {
   "cell_type": "markdown",
   "metadata": {},
   "source": [
    "#### 15. Now we want to label the values in *d*. First create an empty array *f* with the same shape (i.e. 2x3x5) as *d* using `np.empty`.\n"
   ]
  },
  {
   "cell_type": "code",
   "execution_count": 79,
   "metadata": {},
   "outputs": [
    {
     "data": {
      "text/plain": [
       "array([[[1.14608064, 1.35742795, 1.4823327 , 1.91435777, 1.15806348],\n",
       "        [1.94523112, 1.45878945, 1.75610261, 1.62940877, 1.38619521],\n",
       "        [1.39392211, 1.35527998, 1.13130763, 1.44322237, 1.44018187]],\n",
       "\n",
       "       [[1.58013071, 1.35870736, 1.24747152, 1.61572553, 1.40721392],\n",
       "        [1.10601934, 1.42301899, 1.235388  , 1.24323322, 1.45110478],\n",
       "        [1.43036463, 1.21915012, 1.25143974, 1.61935852, 1.65638166]]])"
      ]
     },
     "execution_count": 79,
     "metadata": {},
     "output_type": "execute_result"
    }
   ],
   "source": [
    "d"
   ]
  },
  {
   "cell_type": "code",
   "execution_count": 97,
   "metadata": {},
   "outputs": [
    {
     "name": "stdout",
     "output_type": "stream",
     "text": [
      "[[[1.14608064 1.35742795 1.4823327  1.91435777 1.15806348]\n",
      "  [1.94523112 1.45878945 1.75610261 1.62940877 1.38619521]\n",
      "  [1.39392211 1.35527998 1.13130763 1.44322237 1.44018187]]\n",
      "\n",
      " [[1.58013071 1.35870736 1.24747152 1.61572553 1.40721392]\n",
      "  [1.10601934 1.42301899 1.235388   1.24323322 1.45110478]\n",
      "  [1.43036463 1.21915012 1.25143974 1.61935852 1.65638166]]]\n"
     ]
    }
   ],
   "source": [
    "f=np.empty([2,3,5])\n",
    "print(f)"
   ]
  },
  {
   "cell_type": "code",
   "execution_count": 98,
   "metadata": {},
   "outputs": [
    {
     "data": {
      "text/plain": [
       "(2, 3, 5)"
      ]
     },
     "execution_count": 98,
     "metadata": {},
     "output_type": "execute_result"
    }
   ],
   "source": [
    "f.shape"
   ]
  },
  {
   "cell_type": "markdown",
   "metadata": {},
   "source": [
    "#### 16. Populate the values in *f*. \n",
    "\n",
    "For each value in *d*, if it's larger than *d_min* but smaller than *d_mean*, assign 25 to the corresponding value in *f*. If a value in *d* is larger than *d_mean* but smaller than *d_max*, assign 75 to the corresponding value in *f*. If a value equals to *d_mean*, assign 50 to the corresponding value in *f*. Assign 0 to the corresponding value(s) in *f* for *d_min* in *d*. Assign 100 to the corresponding value(s) in *f* for *d_max* in *d*. In the end, f should have only the following values: 0, 25, 50, 75, and 100.\n",
    "\n",
    "**Note**: you don't have to use Numpy in this question."
   ]
  },
  {
   "cell_type": "code",
   "execution_count": 99,
   "metadata": {},
   "outputs": [
    {
     "data": {
      "text/plain": [
       "array([[[1.14608064, 1.35742795, 1.4823327 , 1.91435777, 1.15806348],\n",
       "        [1.94523112, 1.45878945, 1.75610261, 1.62940877, 1.38619521],\n",
       "        [1.39392211, 1.35527998, 1.13130763, 1.44322237, 1.44018187]],\n",
       "\n",
       "       [[1.58013071, 1.35870736, 1.24747152, 1.61572553, 1.40721392],\n",
       "        [1.10601934, 1.42301899, 1.235388  , 1.24323322, 1.45110478],\n",
       "        [1.43036463, 1.21915012, 1.25143974, 1.61935852, 1.65638166]]])"
      ]
     },
     "execution_count": 99,
     "metadata": {},
     "output_type": "execute_result"
    }
   ],
   "source": [
    "f = np.array((d))\n",
    "f"
   ]
  },
  {
   "cell_type": "code",
   "execution_count": 100,
   "metadata": {},
   "outputs": [
    {
     "name": "stdout",
     "output_type": "stream",
     "text": [
      "[[[ 25.  25.  75.  75.  25.]\n",
      "  [100.  75.  75.  75.  25.]\n",
      "  [ 25.  25.  25.  75.  75.]]\n",
      "\n",
      " [[ 75.  25.  25.  75.  25.]\n",
      "  [  0.  25.  25.  25.  75.]\n",
      "  [ 75.  25.  25.  75.  75.]]]\n"
     ]
    }
   ],
   "source": [
    "a=np.where((f>d_min)&(f<d_mean),25,f)\n",
    "b=np.where((f>d_mean)&(f<d_max),75,a)\n",
    "c=np.where((f==d_mean),50,b)\n",
    "d=np.where((f==d_min),0,c)\n",
    "e=np.where((f==d_max),100,d)\n",
    "print(e)"
   ]
  },
  {
   "cell_type": "code",
   "execution_count": 101,
   "metadata": {},
   "outputs": [
    {
     "data": {
      "text/plain": [
       "array([[[ 25.,  25.,  75.,  75.,  25.],\n",
       "        [100.,  75.,  75.,  75.,  25.],\n",
       "        [ 25.,  25.,  25.,  75.,  75.]],\n",
       "\n",
       "       [[ 75.,  25.,  25.,  75.,  25.],\n",
       "        [  0.,  25.,  25.,  25.,  75.],\n",
       "        [ 75.,  25.,  25.,  75.,  75.]]])"
      ]
     },
     "execution_count": 101,
     "metadata": {},
     "output_type": "execute_result"
    }
   ],
   "source": [
    "f=e\n",
    "f"
   ]
  },
  {
   "cell_type": "markdown",
   "metadata": {},
   "source": [
    "#### 17. Print *d* and *f*. Do you have your expected *f*?\n",
    "For instance, if your *d* is:\n",
    "```python\n",
    "[[[1.85836099, 1.67064465, 1.62576044, 1.40243961, 1.88454931],\n",
    "[1.75354326, 1.69403643, 1.36729252, 1.61415071, 1.12104981],\n",
    "[1.72201435, 1.1862918 , 1.87078449, 1.7726778 , 1.88180042]],\n",
    "[[1.44747908, 1.31673383, 1.02000951, 1.52218947, 1.97066381],\n",
    "[1.79129243, 1.74983003, 1.96028037, 1.85166831, 1.65450881],\n",
    "[1.18068344, 1.9587381 , 1.00656599, 1.93402165, 1.73514584]]]\n",
    "```\n",
    "Your *f* should be:\n",
    "```python\n",
    "[[[ 75.,  75.,  75.,  25.,  75.],\n",
    "[ 75.,  75.,  25.,  25.,  25.],\n",
    "[ 75.,  25.,  75.,  75.,  75.]],\n",
    "[[ 25.,  25.,  25.,  25., 100.],\n",
    "[ 75.,  75.,  75.,  75.,  75.],\n",
    "[ 25.,  75.,   0.,  75.,  75.]]]\n",
    "```"
   ]
  },
  {
   "cell_type": "code",
   "execution_count": 87,
   "metadata": {},
   "outputs": [
    {
     "name": "stdout",
     "output_type": "stream",
     "text": [
      "[[[1.14608064 1.35742795 1.4823327  1.91435777 1.15806348]\n",
      "  [1.94523112 1.45878945 1.75610261 1.62940877 1.38619521]\n",
      "  [1.39392211 1.35527998 1.13130763 1.44322237 1.44018187]]\n",
      "\n",
      " [[1.58013071 1.35870736 1.24747152 1.61572553 1.40721392]\n",
      "  [1.10601934 1.42301899 1.235388   1.24323322 1.45110478]\n",
      "  [1.43036463 1.21915012 1.25143974 1.61935852 1.65638166]]]\n"
     ]
    }
   ],
   "source": [
    "print(d)"
   ]
  },
  {
   "cell_type": "code",
   "execution_count": 102,
   "metadata": {},
   "outputs": [
    {
     "name": "stdout",
     "output_type": "stream",
     "text": [
      "[[[ 25.  25.  75.  75.  25.]\n",
      "  [100.  75.  75.  75.  25.]\n",
      "  [ 25.  25.  25.  75.  75.]]\n",
      "\n",
      " [[ 75.  25.  25.  75.  25.]\n",
      "  [  0.  25.  25.  25.  75.]\n",
      "  [ 75.  25.  25.  75.  75.]]]\n"
     ]
    }
   ],
   "source": [
    "print(f)"
   ]
  },
  {
   "cell_type": "markdown",
   "metadata": {},
   "source": [
    "#### 18. Bonus question: instead of using numbers (i.e. 0, 25, 50, 75, and 100), use string values  (\"A\", \"B\", \"C\", \"D\", and \"E\") to label the array elements. For the example above, the expected result is:\n",
    "\n",
    "```python\n",
    "[[[ 'D',  'D',  'D',  'B',  'D'],\n",
    "[ 'D',  'D',  'B',  'B',  'B'],\n",
    "[ 'D',  'B',  'D',  'D',  'D']],\n",
    "[[ 'B',  'B',  'B',  'B',  'E'],\n",
    "[ 'D',  'D',  'D',  'D',  'D'],\n",
    "[ 'B',  'D',   'A',  'D', 'D']]]\n",
    "```\n",
    "**Note**: you don't have to use Numpy in this question."
   ]
  },
  {
   "cell_type": "code",
   "execution_count": 82,
   "metadata": {},
   "outputs": [
    {
     "data": {
      "text/plain": [
       "array([[[1.14608064, 1.35742795, 1.4823327 , 1.91435777, 1.15806348],\n",
       "        [1.94523112, 1.45878945, 1.75610261, 1.62940877, 1.38619521],\n",
       "        [1.39392211, 1.35527998, 1.13130763, 1.44322237, 1.44018187]],\n",
       "\n",
       "       [[1.58013071, 1.35870736, 1.24747152, 1.61572553, 1.40721392],\n",
       "        [1.10601934, 1.42301899, 1.235388  , 1.24323322, 1.45110478],\n",
       "        [1.43036463, 1.21915012, 1.25143974, 1.61935852, 1.65638166]]])"
      ]
     },
     "execution_count": 82,
     "metadata": {},
     "output_type": "execute_result"
    }
   ],
   "source": [
    "d"
   ]
  },
  {
   "cell_type": "code",
   "execution_count": null,
   "metadata": {},
   "outputs": [],
   "source": []
  },
  {
   "cell_type": "code",
   "execution_count": 85,
   "metadata": {},
   "outputs": [
    {
     "name": "stdout",
     "output_type": "stream",
     "text": [
      "[[['A' 'A' 'B' 'B' 'A']\n",
      "  ['E' 'B' 'B' 'B' 'A']\n",
      "  ['A' 'A' 'A' 'B' 'B']]\n",
      "\n",
      " [['B' 'A' 'A' 'B' 'A']\n",
      "  ['D' 'A' 'A' 'A' 'B']\n",
      "  ['B' 'A' 'A' 'B' 'B']]]\n"
     ]
    }
   ],
   "source": [
    "i=np.where((d>d_min)&(d<d_mean),\"A\",d)\n",
    "j=np.where((d>d_mean)&(d<d_max),\"B\",i)\n",
    "k=np.where((d==d_mean),\"C\",j)\n",
    "l=np.where((d==d_min),\"D\",k)\n",
    "m=np.where((d==d_max),\"E\",l)\n",
    "print(m)"
   ]
  },
  {
   "cell_type": "code",
   "execution_count": null,
   "metadata": {},
   "outputs": [],
   "source": []
  }
 ],
 "metadata": {
  "kernelspec": {
   "display_name": "Python 3 (ipykernel)",
   "language": "python",
   "name": "python3"
  },
  "language_info": {
   "codemirror_mode": {
    "name": "ipython",
    "version": 3
   },
   "file_extension": ".py",
   "mimetype": "text/x-python",
   "name": "python",
   "nbconvert_exporter": "python",
   "pygments_lexer": "ipython3",
   "version": "3.9.12"
  }
 },
 "nbformat": 4,
 "nbformat_minor": 2
}
