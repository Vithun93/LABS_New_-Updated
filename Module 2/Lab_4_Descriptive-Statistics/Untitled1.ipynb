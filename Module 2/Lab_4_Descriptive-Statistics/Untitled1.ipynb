{
 "cells": [
  {
   "cell_type": "code",
   "execution_count": 1,
   "id": "fb5e118b",
   "metadata": {},
   "outputs": [],
   "source": [
    "import numpy as np\n",
    "import random\n",
    "import scipy.stats as st\n",
    "import pandas as pd\n",
    "import matplotlib.pyplot as plt\n",
    "import seaborn as sns\n",
    "import math"
   ]
  },
  {
   "cell_type": "code",
   "execution_count": 4,
   "id": "13a8d15b",
   "metadata": {},
   "outputs": [
    {
     "data": {
      "text/html": [
       "<div>\n",
       "<style scoped>\n",
       "    .dataframe tbody tr th:only-of-type {\n",
       "        vertical-align: middle;\n",
       "    }\n",
       "\n",
       "    .dataframe tbody tr th {\n",
       "        vertical-align: top;\n",
       "    }\n",
       "\n",
       "    .dataframe thead th {\n",
       "        text-align: right;\n",
       "    }\n",
       "</style>\n",
       "<table border=\"1\" class=\"dataframe\">\n",
       "  <thead>\n",
       "    <tr style=\"text-align: right;\">\n",
       "      <th></th>\n",
       "      <th>Unnamed: 0</th>\n",
       "      <th>title</th>\n",
       "      <th>year</th>\n",
       "      <th>kind</th>\n",
       "      <th>genre</th>\n",
       "      <th>rating</th>\n",
       "      <th>vote</th>\n",
       "      <th>country</th>\n",
       "      <th>language</th>\n",
       "      <th>cast</th>\n",
       "      <th>director</th>\n",
       "      <th>composer</th>\n",
       "      <th>writer</th>\n",
       "      <th>runtime</th>\n",
       "    </tr>\n",
       "  </thead>\n",
       "  <tbody>\n",
       "    <tr>\n",
       "      <th>0</th>\n",
       "      <td>0</td>\n",
       "      <td>Dinosaur Planet</td>\n",
       "      <td>2003.0</td>\n",
       "      <td>tv mini series</td>\n",
       "      <td>['Documentary', 'Animation', 'Family']</td>\n",
       "      <td>7.7</td>\n",
       "      <td>474.0</td>\n",
       "      <td>['United States']</td>\n",
       "      <td>['English']</td>\n",
       "      <td>['Christian Slater', 'Scott Sampson']</td>\n",
       "      <td>NaN</td>\n",
       "      <td>NaN</td>\n",
       "      <td>['Mike Carrol', 'Mike Carroll', 'Georgann Kane']</td>\n",
       "      <td>50.0</td>\n",
       "    </tr>\n",
       "    <tr>\n",
       "      <th>1</th>\n",
       "      <td>1</td>\n",
       "      <td>Character</td>\n",
       "      <td>2021.0</td>\n",
       "      <td>movie</td>\n",
       "      <td>['Crime', 'Horror', 'Thriller']</td>\n",
       "      <td>8.3</td>\n",
       "      <td>46.0</td>\n",
       "      <td>['Japan']</td>\n",
       "      <td>['Japanese']</td>\n",
       "      <td>['Masaki Suda', 'Fukase', 'Mitsuki Takahata', ...</td>\n",
       "      <td>['Akira Nagai']</td>\n",
       "      <td>['Youki Kojima']</td>\n",
       "      <td>['Takashi Nagasaki', 'Takashi Nagasaki', 'Anna...</td>\n",
       "      <td>125.0</td>\n",
       "    </tr>\n",
       "    <tr>\n",
       "      <th>2</th>\n",
       "      <td>2</td>\n",
       "      <td>Get Up and Dance!</td>\n",
       "      <td>1994.0</td>\n",
       "      <td>video movie</td>\n",
       "      <td>['Family']</td>\n",
       "      <td>8.1</td>\n",
       "      <td>18.0</td>\n",
       "      <td>['United States']</td>\n",
       "      <td>['English']</td>\n",
       "      <td>['Paula Abdul', 'Aurorah Allain', 'Bill Bohl',...</td>\n",
       "      <td>['Steve Purcell']</td>\n",
       "      <td>NaN</td>\n",
       "      <td>NaN</td>\n",
       "      <td>54.0</td>\n",
       "    </tr>\n",
       "    <tr>\n",
       "      <th>3</th>\n",
       "      <td>3</td>\n",
       "      <td>The Rise and Fall of El Chapo</td>\n",
       "      <td>2016.0</td>\n",
       "      <td>tv movie</td>\n",
       "      <td>['Documentary']</td>\n",
       "      <td>6.9</td>\n",
       "      <td>42.0</td>\n",
       "      <td>['United States']</td>\n",
       "      <td>NaN</td>\n",
       "      <td>NaN</td>\n",
       "      <td>NaN</td>\n",
       "      <td>NaN</td>\n",
       "      <td>NaN</td>\n",
       "      <td>85.0</td>\n",
       "    </tr>\n",
       "    <tr>\n",
       "      <th>4</th>\n",
       "      <td>4</td>\n",
       "      <td>Sick - IMDb</td>\n",
       "      <td>NaN</td>\n",
       "      <td>NaN</td>\n",
       "      <td>['Thriller']</td>\n",
       "      <td>NaN</td>\n",
       "      <td>NaN</td>\n",
       "      <td>['United States']</td>\n",
       "      <td>NaN</td>\n",
       "      <td>['Marc Menchaca', 'Gideon Adlon', 'Dylan Spray...</td>\n",
       "      <td>['John Hyams']</td>\n",
       "      <td>NaN</td>\n",
       "      <td>['Katelyn Crabb', 'Kevin Williamson']</td>\n",
       "      <td>NaN</td>\n",
       "    </tr>\n",
       "  </tbody>\n",
       "</table>\n",
       "</div>"
      ],
      "text/plain": [
       "   Unnamed: 0                          title    year            kind  \\\n",
       "0           0                Dinosaur Planet  2003.0  tv mini series   \n",
       "1           1                      Character  2021.0           movie   \n",
       "2           2              Get Up and Dance!  1994.0     video movie   \n",
       "3           3  The Rise and Fall of El Chapo  2016.0        tv movie   \n",
       "4           4                    Sick - IMDb     NaN             NaN   \n",
       "\n",
       "                                    genre  rating   vote            country  \\\n",
       "0  ['Documentary', 'Animation', 'Family']     7.7  474.0  ['United States']   \n",
       "1         ['Crime', 'Horror', 'Thriller']     8.3   46.0          ['Japan']   \n",
       "2                              ['Family']     8.1   18.0  ['United States']   \n",
       "3                         ['Documentary']     6.9   42.0  ['United States']   \n",
       "4                            ['Thriller']     NaN    NaN  ['United States']   \n",
       "\n",
       "       language                                               cast  \\\n",
       "0   ['English']              ['Christian Slater', 'Scott Sampson']   \n",
       "1  ['Japanese']  ['Masaki Suda', 'Fukase', 'Mitsuki Takahata', ...   \n",
       "2   ['English']  ['Paula Abdul', 'Aurorah Allain', 'Bill Bohl',...   \n",
       "3           NaN                                                NaN   \n",
       "4           NaN  ['Marc Menchaca', 'Gideon Adlon', 'Dylan Spray...   \n",
       "\n",
       "            director          composer  \\\n",
       "0                NaN               NaN   \n",
       "1    ['Akira Nagai']  ['Youki Kojima']   \n",
       "2  ['Steve Purcell']               NaN   \n",
       "3                NaN               NaN   \n",
       "4     ['John Hyams']               NaN   \n",
       "\n",
       "                                              writer  runtime  \n",
       "0   ['Mike Carrol', 'Mike Carroll', 'Georgann Kane']     50.0  \n",
       "1  ['Takashi Nagasaki', 'Takashi Nagasaki', 'Anna...    125.0  \n",
       "2                                                NaN     54.0  \n",
       "3                                                NaN     85.0  \n",
       "4              ['Katelyn Crabb', 'Kevin Williamson']      NaN  "
      ]
     },
     "execution_count": 4,
     "metadata": {},
     "output_type": "execute_result"
    }
   ],
   "source": [
    "im=pd.read_csv(r\"C:\\Users\\Vithushan\\Downloads\\imdb.csv\")\n",
    "im.head()"
   ]
  },
  {
   "cell_type": "code",
   "execution_count": 6,
   "id": "046fe1c4",
   "metadata": {},
   "outputs": [
    {
     "data": {
      "text/plain": [
       "pandas.core.frame.DataFrame"
      ]
     },
     "execution_count": 6,
     "metadata": {},
     "output_type": "execute_result"
    }
   ],
   "source": [
    "type(im)"
   ]
  },
  {
   "cell_type": "code",
   "execution_count": 8,
   "id": "f7de41e8",
   "metadata": {},
   "outputs": [
    {
     "data": {
      "text/plain": [
       "composer      3622\n",
       "director      1860\n",
       "writer        1656\n",
       "runtime       1056\n",
       "rating         877\n",
       "vote           877\n",
       "language       793\n",
       "country        665\n",
       "cast           344\n",
       "genre           93\n",
       "year            70\n",
       "kind            38\n",
       "title            1\n",
       "Unnamed: 0       0\n",
       "dtype: int64"
      ]
     },
     "execution_count": 8,
     "metadata": {},
     "output_type": "execute_result"
    }
   ],
   "source": [
    "im.isna().sum().sort_values(ascending=False)"
   ]
  },
  {
   "cell_type": "code",
   "execution_count": 10,
   "id": "e7f432a3",
   "metadata": {},
   "outputs": [
    {
     "data": {
      "text/plain": [
       "array([nan, \"['Youki Kojima']\", \"['Carole King']\", ...,\n",
       "       \"['William Allen Castleman', 'William Loose']\",\n",
       "       \"['Jason M. Hall']\", \"['Kunio Miyauchi']\"], dtype=object)"
      ]
     },
     "execution_count": 10,
     "metadata": {},
     "output_type": "execute_result"
    }
   ],
   "source": [
    "im.composer.unique()"
   ]
  },
  {
   "cell_type": "code",
   "execution_count": 11,
   "id": "4e288e72",
   "metadata": {},
   "outputs": [
    {
     "data": {
      "text/plain": [
       "['John Williams']                   28\n",
       "['James Horner']                    27\n",
       "['Jim Parker']                      27\n",
       "['Ennio Morricone']                 26\n",
       "['Elmer Bernstein']                 25\n",
       "                                    ..\n",
       "['Tomohiko Kira']                    1\n",
       "['David Motion', 'Sally Potter']     1\n",
       "['Carl Schultz']                     1\n",
       "['Ruy Folguera']                     1\n",
       "['Kunio Miyauchi']                   1\n",
       "Name: composer, Length: 3296, dtype: int64"
      ]
     },
     "execution_count": 11,
     "metadata": {},
     "output_type": "execute_result"
    }
   ],
   "source": [
    "im.composer.value_counts()"
   ]
  },
  {
   "cell_type": "code",
   "execution_count": 12,
   "id": "76eba8fd",
   "metadata": {},
   "outputs": [
    {
     "data": {
      "text/plain": [
       "['Kevin Dunn']          35\n",
       "['Akira Kurosawa']      18\n",
       "['Jim Wynorski']        15\n",
       "['Tom Clegg']           15\n",
       "['Alfred Hitchcock']    15\n",
       "                        ..\n",
       "['Masaharu Okuwaki']     1\n",
       "['Salty Cracker']        1\n",
       "['Sanaa Hamri']          1\n",
       "['Greg Griffin']         1\n",
       "['Matt Codd']            1\n",
       "Name: director, Length: 5018, dtype: int64"
      ]
     },
     "execution_count": 12,
     "metadata": {},
     "output_type": "execute_result"
    }
   ],
   "source": [
    "im.director.value_counts()"
   ]
  },
  {
   "cell_type": "code",
   "execution_count": null,
   "id": "7d49b884",
   "metadata": {},
   "outputs": [],
   "source": []
  }
 ],
 "metadata": {
  "kernelspec": {
   "display_name": "Python 3 (ipykernel)",
   "language": "python",
   "name": "python3"
  },
  "language_info": {
   "codemirror_mode": {
    "name": "ipython",
    "version": 3
   },
   "file_extension": ".py",
   "mimetype": "text/x-python",
   "name": "python",
   "nbconvert_exporter": "python",
   "pygments_lexer": "ipython3",
   "version": "3.9.12"
  }
 },
 "nbformat": 4,
 "nbformat_minor": 5
}
