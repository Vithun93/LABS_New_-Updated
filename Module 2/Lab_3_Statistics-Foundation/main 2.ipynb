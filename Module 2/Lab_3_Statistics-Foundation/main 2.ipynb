{
 "cells": [
  {
   "cell_type": "code",
   "execution_count": 1,
   "id": "388764b1",
   "metadata": {},
   "outputs": [],
   "source": [
    "import pandas as pd\n",
    "import numpy as np\n"
   ]
  },
  {
   "cell_type": "markdown",
   "id": "bb8d534d",
   "metadata": {},
   "source": [
    "# Challenge 1"
   ]
  },
  {
   "cell_type": "code",
   "execution_count": null,
   "id": "b01f1e02",
   "metadata": {},
   "outputs": [],
   "source": [
    "\"\"\"\n",
    "data=20,34, 34, 12, 56, 110, 49, a, b.*\n",
    "\n",
    "as because median is 42\n",
    "\n",
    "lets take a=42,\n",
    "\n",
    "then if mean = 50\n",
    "\n",
    "mean = (20+34+34+12+56+110+49+a+b)/9 = 50\n",
    "        357 + b = 450\n",
    "        b=93\n",
    "        \n",
    "\"\"\"\""
   ]
  },
  {
   "cell_type": "markdown",
   "id": "b9889249",
   "metadata": {},
   "source": [
    "\n",
    "# Challenge 2"
   ]
  },
  {
   "cell_type": "code",
   "execution_count": null,
   "id": "e869ca9d",
   "metadata": {},
   "outputs": [],
   "source": [
    "\"\"\"\n",
    "The average speed of the car = (60+110)/2 = 85Km/h\n",
    "\n",
    "\"\"\""
   ]
  },
  {
   "cell_type": "markdown",
   "id": "2899b33c",
   "metadata": {},
   "source": [
    "\n",
    "# Challenge 3"
   ]
  },
  {
   "cell_type": "code",
   "execution_count": 7,
   "id": "19219395",
   "metadata": {},
   "outputs": [
    {
     "data": {
      "text/plain": [
       "{'Lifetime (hours)': ['0–199',\n",
       "  '200–399',\n",
       "  '400–599',\n",
       "  '600–799',\n",
       "  '800–999',\n",
       "  '1000–1199',\n",
       "  '1200–1999'],\n",
       " 'Frequency': ['143', '97', '64', '51', '14', '14', '17']}"
      ]
     },
     "execution_count": 7,
     "metadata": {},
     "output_type": "execute_result"
    }
   ],
   "source": [
    "data={\"Lifetime (hours)\":[\"0–199\", \"200–399\", \"400–599\", \"600–799\", \"800–999\", \"1000–1199\", \"1200–1999\"],\"Frequency\": [\"143\",\"97\",\"64\",\"51\",\"14\",\"14\",\"17\"]}\n",
    "data"
   ]
  },
  {
   "cell_type": "code",
   "execution_count": 8,
   "id": "bc2f5fbd",
   "metadata": {},
   "outputs": [],
   "source": [
    "df=pd.DataFrame(data)"
   ]
  },
  {
   "cell_type": "code",
   "execution_count": 9,
   "id": "ab93da4a",
   "metadata": {},
   "outputs": [
    {
     "data": {
      "text/html": [
       "<div>\n",
       "<style scoped>\n",
       "    .dataframe tbody tr th:only-of-type {\n",
       "        vertical-align: middle;\n",
       "    }\n",
       "\n",
       "    .dataframe tbody tr th {\n",
       "        vertical-align: top;\n",
       "    }\n",
       "\n",
       "    .dataframe thead th {\n",
       "        text-align: right;\n",
       "    }\n",
       "</style>\n",
       "<table border=\"1\" class=\"dataframe\">\n",
       "  <thead>\n",
       "    <tr style=\"text-align: right;\">\n",
       "      <th></th>\n",
       "      <th>Lifetime (hours)</th>\n",
       "      <th>Frequency</th>\n",
       "    </tr>\n",
       "  </thead>\n",
       "  <tbody>\n",
       "    <tr>\n",
       "      <th>0</th>\n",
       "      <td>0–199</td>\n",
       "      <td>143</td>\n",
       "    </tr>\n",
       "    <tr>\n",
       "      <th>1</th>\n",
       "      <td>200–399</td>\n",
       "      <td>97</td>\n",
       "    </tr>\n",
       "    <tr>\n",
       "      <th>2</th>\n",
       "      <td>400–599</td>\n",
       "      <td>64</td>\n",
       "    </tr>\n",
       "    <tr>\n",
       "      <th>3</th>\n",
       "      <td>600–799</td>\n",
       "      <td>51</td>\n",
       "    </tr>\n",
       "    <tr>\n",
       "      <th>4</th>\n",
       "      <td>800–999</td>\n",
       "      <td>14</td>\n",
       "    </tr>\n",
       "    <tr>\n",
       "      <th>5</th>\n",
       "      <td>1000–1199</td>\n",
       "      <td>14</td>\n",
       "    </tr>\n",
       "    <tr>\n",
       "      <th>6</th>\n",
       "      <td>1200–1999</td>\n",
       "      <td>17</td>\n",
       "    </tr>\n",
       "  </tbody>\n",
       "</table>\n",
       "</div>"
      ],
      "text/plain": [
       "  Lifetime (hours) Frequency\n",
       "0            0–199       143\n",
       "1          200–399        97\n",
       "2          400–599        64\n",
       "3          600–799        51\n",
       "4          800–999        14\n",
       "5        1000–1199        14\n",
       "6        1200–1999        17"
      ]
     },
     "execution_count": 9,
     "metadata": {},
     "output_type": "execute_result"
    }
   ],
   "source": [
    "df"
   ]
  },
  {
   "cell_type": "code",
   "execution_count": null,
   "id": "093fd36c",
   "metadata": {},
   "outputs": [],
   "source": []
  },
  {
   "cell_type": "code",
   "execution_count": 10,
   "id": "a156999e",
   "metadata": {},
   "outputs": [],
   "source": [
    "import seaborn as sns"
   ]
  },
  {
   "cell_type": "code",
   "execution_count": 18,
   "id": "74ce44d1",
   "metadata": {},
   "outputs": [
    {
     "data": {
      "text/plain": [
       "<seaborn.axisgrid.FacetGrid at 0x1ff683ea7f0>"
      ]
     },
     "execution_count": 18,
     "metadata": {},
     "output_type": "execute_result"
    },
    {
     "data": {
      "image/png": "[encoded data removed]",
      "text/plain": [
       "<Figure size 360x360 with 1 Axes>"
      ]
     },
     "metadata": {
      "needs_background": "light"
     },
     "output_type": "display_data"
    }
   ],
   "source": [
    " "
   ]
  },
  {
   "cell_type": "code",
   "execution_count": 19,
   "id": "9f310265",
   "metadata": {},
   "outputs": [
    {
     "data": {
      "text/plain": [
       "'\\nThe percentage of bulbs with lifetime less than 400h can be caluclate as a sum of frequency from the first two intervals divided by total cumlative frequency:\\n\\n240/400 * 100% = 60% - Percentage of bulbs with lifetime less than 400h.\\n\\n'"
      ]
     },
     "execution_count": 19,
     "metadata": {},
     "output_type": "execute_result"
    }
   ],
   "source": [
    "\"\"\"\n",
    "The percentage of bulbs with lifetime less than 400h can be caluclate as a sum of frequency from the first two intervals divided by total cumlative frequency:\n",
    "\n",
    "240/400 * 100% = 60% - Percentage of bulbs with lifetime less than 400h.\n",
    "\n",
    "\"\"\""
   ]
  },
  {
   "cell_type": "markdown",
   "id": "301fae8d",
   "metadata": {},
   "source": [
    "# Challenge 4"
   ]
  },
  {
   "cell_type": "code",
   "execution_count": 92,
   "id": "9052f512",
   "metadata": {},
   "outputs": [
    {
     "data": {
      "text/plain": [
       "{'Time (h)': ['0-19',\n",
       "  '20-39',\n",
       "  '40-59',\n",
       "  '60-79',\n",
       "  '80-99',\n",
       "  '100-119',\n",
       "  '120-139',\n",
       "  '140-159',\n",
       "  '160-179'],\n",
       " 'x': [9.5, 29.5, 49.5, 69.5, 89.5, 109.5, 129.5, 149.5, 169.5],\n",
       " 'f': [16, 13, 17, 4, 4, 3, 1, 1, 1]}"
      ]
     },
     "execution_count": 92,
     "metadata": {},
     "output_type": "execute_result"
    }
   ],
   "source": [
    "data2={\"Time (h)\":[\"0-19\",\"20-39\",\"40-59\",\"60-79\",\"80-99\",\"100-119\",\"120-139\",\"140-159\",\"160-179\"],\"x\":[9.5,29.5,49.5,69.5,89.5,109.5,129.5,149.5,169.5],\"f\": [16,13,17,4,4,3,1,1,1]}\n",
    "data2"
   ]
  },
  {
   "cell_type": "code",
   "execution_count": 106,
   "id": "f70797da",
   "metadata": {},
   "outputs": [
    {
     "data": {
      "text/html": [
       "<div>\n",
       "<style scoped>\n",
       "    .dataframe tbody tr th:only-of-type {\n",
       "        vertical-align: middle;\n",
       "    }\n",
       "\n",
       "    .dataframe tbody tr th {\n",
       "        vertical-align: top;\n",
       "    }\n",
       "\n",
       "    .dataframe thead th {\n",
       "        text-align: right;\n",
       "    }\n",
       "</style>\n",
       "<table border=\"1\" class=\"dataframe\">\n",
       "  <thead>\n",
       "    <tr style=\"text-align: right;\">\n",
       "      <th></th>\n",
       "      <th>Time (h)</th>\n",
       "      <th>x</th>\n",
       "      <th>f</th>\n",
       "    </tr>\n",
       "  </thead>\n",
       "  <tbody>\n",
       "    <tr>\n",
       "      <th>0</th>\n",
       "      <td>0-19</td>\n",
       "      <td>9.5</td>\n",
       "      <td>16</td>\n",
       "    </tr>\n",
       "    <tr>\n",
       "      <th>1</th>\n",
       "      <td>20-39</td>\n",
       "      <td>29.5</td>\n",
       "      <td>13</td>\n",
       "    </tr>\n",
       "    <tr>\n",
       "      <th>2</th>\n",
       "      <td>40-59</td>\n",
       "      <td>49.5</td>\n",
       "      <td>17</td>\n",
       "    </tr>\n",
       "    <tr>\n",
       "      <th>3</th>\n",
       "      <td>60-79</td>\n",
       "      <td>69.5</td>\n",
       "      <td>4</td>\n",
       "    </tr>\n",
       "    <tr>\n",
       "      <th>4</th>\n",
       "      <td>80-99</td>\n",
       "      <td>89.5</td>\n",
       "      <td>4</td>\n",
       "    </tr>\n",
       "    <tr>\n",
       "      <th>5</th>\n",
       "      <td>100-119</td>\n",
       "      <td>109.5</td>\n",
       "      <td>3</td>\n",
       "    </tr>\n",
       "    <tr>\n",
       "      <th>6</th>\n",
       "      <td>120-139</td>\n",
       "      <td>129.5</td>\n",
       "      <td>1</td>\n",
       "    </tr>\n",
       "    <tr>\n",
       "      <th>7</th>\n",
       "      <td>140-159</td>\n",
       "      <td>149.5</td>\n",
       "      <td>1</td>\n",
       "    </tr>\n",
       "    <tr>\n",
       "      <th>8</th>\n",
       "      <td>160-179</td>\n",
       "      <td>169.5</td>\n",
       "      <td>1</td>\n",
       "    </tr>\n",
       "  </tbody>\n",
       "</table>\n",
       "</div>"
      ],
      "text/plain": [
       "  Time (h)      x   f\n",
       "0     0-19    9.5  16\n",
       "1    20-39   29.5  13\n",
       "2    40-59   49.5  17\n",
       "3    60-79   69.5   4\n",
       "4    80-99   89.5   4\n",
       "5  100-119  109.5   3\n",
       "6  120-139  129.5   1\n",
       "7  140-159  149.5   1\n",
       "8  160-179  169.5   1"
      ]
     },
     "execution_count": 106,
     "metadata": {},
     "output_type": "execute_result"
    }
   ],
   "source": [
    "df2=pd.DataFrame(data2)\n",
    "df2"
   ]
  },
  {
   "cell_type": "markdown",
   "id": "414c97db",
   "metadata": {},
   "source": [
    "median"
   ]
  },
  {
   "cell_type": "code",
   "execution_count": 107,
   "id": "955b863a",
   "metadata": {},
   "outputs": [
    {
     "data": {
      "text/plain": [
       "'\\nMedian = I + ((n/2 - c)/f) *h,\\n\\nwhere:\\n- I - Lower limit of median class\\n- n - total number of class observations\\n- c - cumulative frequency of the preceeding class\\n- f - frequency of each class\\n- h - class size\\n\\nIn my case n = 60\\n\\n60/2= 30\\n\\nCumulative frequency greater than 30 is 46, thus the median class is 40-59\\n\\nThus I = 40, f=17, c = 29, h = 19\\n'"
      ]
     },
     "execution_count": 107,
     "metadata": {},
     "output_type": "execute_result"
    }
   ],
   "source": [
    "\"\"\"\n",
    "Median = I + ((n/2 - c)/f) *h,\n",
    "\n",
    "where:\n",
    "- I - Lower limit of median class\n",
    "- n - total number of class observations\n",
    "- c - cumulative frequency of the preceeding class\n",
    "- f - frequency of each class\n",
    "- h - class size\n",
    "\n",
    "In my case n = 60\n",
    "\n",
    "60/2= 30\n",
    "\n",
    "Cumulative frequency greater than 30 is 46, thus the median class is 40-59\n",
    "\n",
    "Thus I = 40, f=17, c = 29, h = 19\n",
    "\"\"\"\n"
   ]
  },
  {
   "cell_type": "code",
   "execution_count": 108,
   "id": "9827e6a9",
   "metadata": {},
   "outputs": [],
   "source": [
    "#median = 40 + ((30-29)/17)\\*19 = 40 + (19/17)= 41,12 so if it rounded to the whole number it is 41."
   ]
  },
  {
   "cell_type": "markdown",
   "id": "f7d05b6b",
   "metadata": {},
   "source": [
    "Mean"
   ]
  },
  {
   "cell_type": "code",
   "execution_count": null,
   "id": "2ab39552",
   "metadata": {},
   "outputs": [],
   "source": []
  },
  {
   "cell_type": "code",
   "execution_count": 109,
   "id": "887dac9d",
   "metadata": {},
   "outputs": [
    {
     "data": {
      "text/html": [
       "<div>\n",
       "<style scoped>\n",
       "    .dataframe tbody tr th:only-of-type {\n",
       "        vertical-align: middle;\n",
       "    }\n",
       "\n",
       "    .dataframe tbody tr th {\n",
       "        vertical-align: top;\n",
       "    }\n",
       "\n",
       "    .dataframe thead th {\n",
       "        text-align: right;\n",
       "    }\n",
       "</style>\n",
       "<table border=\"1\" class=\"dataframe\">\n",
       "  <thead>\n",
       "    <tr style=\"text-align: right;\">\n",
       "      <th></th>\n",
       "      <th>Time (h)</th>\n",
       "      <th>x</th>\n",
       "      <th>f</th>\n",
       "      <th>x*f</th>\n",
       "    </tr>\n",
       "  </thead>\n",
       "  <tbody>\n",
       "    <tr>\n",
       "      <th>0</th>\n",
       "      <td>0-19</td>\n",
       "      <td>9.5</td>\n",
       "      <td>16</td>\n",
       "      <td>152.0</td>\n",
       "    </tr>\n",
       "    <tr>\n",
       "      <th>1</th>\n",
       "      <td>20-39</td>\n",
       "      <td>29.5</td>\n",
       "      <td>13</td>\n",
       "      <td>383.5</td>\n",
       "    </tr>\n",
       "    <tr>\n",
       "      <th>2</th>\n",
       "      <td>40-59</td>\n",
       "      <td>49.5</td>\n",
       "      <td>17</td>\n",
       "      <td>841.5</td>\n",
       "    </tr>\n",
       "    <tr>\n",
       "      <th>3</th>\n",
       "      <td>60-79</td>\n",
       "      <td>69.5</td>\n",
       "      <td>4</td>\n",
       "      <td>278.0</td>\n",
       "    </tr>\n",
       "    <tr>\n",
       "      <th>4</th>\n",
       "      <td>80-99</td>\n",
       "      <td>89.5</td>\n",
       "      <td>4</td>\n",
       "      <td>358.0</td>\n",
       "    </tr>\n",
       "    <tr>\n",
       "      <th>5</th>\n",
       "      <td>100-119</td>\n",
       "      <td>109.5</td>\n",
       "      <td>3</td>\n",
       "      <td>328.5</td>\n",
       "    </tr>\n",
       "    <tr>\n",
       "      <th>6</th>\n",
       "      <td>120-139</td>\n",
       "      <td>129.5</td>\n",
       "      <td>1</td>\n",
       "      <td>129.5</td>\n",
       "    </tr>\n",
       "    <tr>\n",
       "      <th>7</th>\n",
       "      <td>140-159</td>\n",
       "      <td>149.5</td>\n",
       "      <td>1</td>\n",
       "      <td>149.5</td>\n",
       "    </tr>\n",
       "    <tr>\n",
       "      <th>8</th>\n",
       "      <td>160-179</td>\n",
       "      <td>169.5</td>\n",
       "      <td>1</td>\n",
       "      <td>169.5</td>\n",
       "    </tr>\n",
       "  </tbody>\n",
       "</table>\n",
       "</div>"
      ],
      "text/plain": [
       "  Time (h)      x   f    x*f\n",
       "0     0-19    9.5  16  152.0\n",
       "1    20-39   29.5  13  383.5\n",
       "2    40-59   49.5  17  841.5\n",
       "3    60-79   69.5   4  278.0\n",
       "4    80-99   89.5   4  358.0\n",
       "5  100-119  109.5   3  328.5\n",
       "6  120-139  129.5   1  129.5\n",
       "7  140-159  149.5   1  149.5\n",
       "8  160-179  169.5   1  169.5"
      ]
     },
     "execution_count": 109,
     "metadata": {},
     "output_type": "execute_result"
    }
   ],
   "source": [
    "df2[\"x*f\"]=df2[\"x\"]*df2[\"f\"]\n",
    "df2"
   ]
  },
  {
   "cell_type": "code",
   "execution_count": 112,
   "id": "8dd894fd",
   "metadata": {},
   "outputs": [
    {
     "data": {
      "text/plain": [
       "46.5"
      ]
     },
     "execution_count": 112,
     "metadata": {},
     "output_type": "execute_result"
    }
   ],
   "source": [
    "m=sum(df2[\"x*f\"])/sum(df2[\"f\"])\n",
    "m"
   ]
  },
  {
   "cell_type": "code",
   "execution_count": 113,
   "id": "acdaf70c",
   "metadata": {},
   "outputs": [
    {
     "data": {
      "text/html": [
       "<div>\n",
       "<style scoped>\n",
       "    .dataframe tbody tr th:only-of-type {\n",
       "        vertical-align: middle;\n",
       "    }\n",
       "\n",
       "    .dataframe tbody tr th {\n",
       "        vertical-align: top;\n",
       "    }\n",
       "\n",
       "    .dataframe thead th {\n",
       "        text-align: right;\n",
       "    }\n",
       "</style>\n",
       "<table border=\"1\" class=\"dataframe\">\n",
       "  <thead>\n",
       "    <tr style=\"text-align: right;\">\n",
       "      <th></th>\n",
       "      <th>Time (h)</th>\n",
       "      <th>x</th>\n",
       "      <th>f</th>\n",
       "      <th>x*f</th>\n",
       "      <th>x-m</th>\n",
       "    </tr>\n",
       "  </thead>\n",
       "  <tbody>\n",
       "    <tr>\n",
       "      <th>0</th>\n",
       "      <td>0-19</td>\n",
       "      <td>9.5</td>\n",
       "      <td>16</td>\n",
       "      <td>152.0</td>\n",
       "      <td>-37.0</td>\n",
       "    </tr>\n",
       "    <tr>\n",
       "      <th>1</th>\n",
       "      <td>20-39</td>\n",
       "      <td>29.5</td>\n",
       "      <td>13</td>\n",
       "      <td>383.5</td>\n",
       "      <td>-17.0</td>\n",
       "    </tr>\n",
       "    <tr>\n",
       "      <th>2</th>\n",
       "      <td>40-59</td>\n",
       "      <td>49.5</td>\n",
       "      <td>17</td>\n",
       "      <td>841.5</td>\n",
       "      <td>3.0</td>\n",
       "    </tr>\n",
       "    <tr>\n",
       "      <th>3</th>\n",
       "      <td>60-79</td>\n",
       "      <td>69.5</td>\n",
       "      <td>4</td>\n",
       "      <td>278.0</td>\n",
       "      <td>23.0</td>\n",
       "    </tr>\n",
       "    <tr>\n",
       "      <th>4</th>\n",
       "      <td>80-99</td>\n",
       "      <td>89.5</td>\n",
       "      <td>4</td>\n",
       "      <td>358.0</td>\n",
       "      <td>43.0</td>\n",
       "    </tr>\n",
       "    <tr>\n",
       "      <th>5</th>\n",
       "      <td>100-119</td>\n",
       "      <td>109.5</td>\n",
       "      <td>3</td>\n",
       "      <td>328.5</td>\n",
       "      <td>63.0</td>\n",
       "    </tr>\n",
       "    <tr>\n",
       "      <th>6</th>\n",
       "      <td>120-139</td>\n",
       "      <td>129.5</td>\n",
       "      <td>1</td>\n",
       "      <td>129.5</td>\n",
       "      <td>83.0</td>\n",
       "    </tr>\n",
       "    <tr>\n",
       "      <th>7</th>\n",
       "      <td>140-159</td>\n",
       "      <td>149.5</td>\n",
       "      <td>1</td>\n",
       "      <td>149.5</td>\n",
       "      <td>103.0</td>\n",
       "    </tr>\n",
       "    <tr>\n",
       "      <th>8</th>\n",
       "      <td>160-179</td>\n",
       "      <td>169.5</td>\n",
       "      <td>1</td>\n",
       "      <td>169.5</td>\n",
       "      <td>123.0</td>\n",
       "    </tr>\n",
       "  </tbody>\n",
       "</table>\n",
       "</div>"
      ],
      "text/plain": [
       "  Time (h)      x   f    x*f    x-m\n",
       "0     0-19    9.5  16  152.0  -37.0\n",
       "1    20-39   29.5  13  383.5  -17.0\n",
       "2    40-59   49.5  17  841.5    3.0\n",
       "3    60-79   69.5   4  278.0   23.0\n",
       "4    80-99   89.5   4  358.0   43.0\n",
       "5  100-119  109.5   3  328.5   63.0\n",
       "6  120-139  129.5   1  129.5   83.0\n",
       "7  140-159  149.5   1  149.5  103.0\n",
       "8  160-179  169.5   1  169.5  123.0"
      ]
     },
     "execution_count": 113,
     "metadata": {},
     "output_type": "execute_result"
    }
   ],
   "source": [
    "df2[\"x-m\"]=df2[\"x\"]-m\n",
    "df2"
   ]
  },
  {
   "cell_type": "code",
   "execution_count": 117,
   "id": "a8ed6aaa",
   "metadata": {},
   "outputs": [
    {
     "data": {
      "text/html": [
       "<div>\n",
       "<style scoped>\n",
       "    .dataframe tbody tr th:only-of-type {\n",
       "        vertical-align: middle;\n",
       "    }\n",
       "\n",
       "    .dataframe tbody tr th {\n",
       "        vertical-align: top;\n",
       "    }\n",
       "\n",
       "    .dataframe thead th {\n",
       "        text-align: right;\n",
       "    }\n",
       "</style>\n",
       "<table border=\"1\" class=\"dataframe\">\n",
       "  <thead>\n",
       "    <tr style=\"text-align: right;\">\n",
       "      <th></th>\n",
       "      <th>Time (h)</th>\n",
       "      <th>x</th>\n",
       "      <th>f</th>\n",
       "      <th>x*f</th>\n",
       "      <th>x-m</th>\n",
       "      <th>(x-m)^2</th>\n",
       "    </tr>\n",
       "  </thead>\n",
       "  <tbody>\n",
       "    <tr>\n",
       "      <th>0</th>\n",
       "      <td>0-19</td>\n",
       "      <td>9.5</td>\n",
       "      <td>16</td>\n",
       "      <td>152.0</td>\n",
       "      <td>-37.0</td>\n",
       "      <td>1369.0</td>\n",
       "    </tr>\n",
       "    <tr>\n",
       "      <th>1</th>\n",
       "      <td>20-39</td>\n",
       "      <td>29.5</td>\n",
       "      <td>13</td>\n",
       "      <td>383.5</td>\n",
       "      <td>-17.0</td>\n",
       "      <td>289.0</td>\n",
       "    </tr>\n",
       "    <tr>\n",
       "      <th>2</th>\n",
       "      <td>40-59</td>\n",
       "      <td>49.5</td>\n",
       "      <td>17</td>\n",
       "      <td>841.5</td>\n",
       "      <td>3.0</td>\n",
       "      <td>9.0</td>\n",
       "    </tr>\n",
       "    <tr>\n",
       "      <th>3</th>\n",
       "      <td>60-79</td>\n",
       "      <td>69.5</td>\n",
       "      <td>4</td>\n",
       "      <td>278.0</td>\n",
       "      <td>23.0</td>\n",
       "      <td>529.0</td>\n",
       "    </tr>\n",
       "    <tr>\n",
       "      <th>4</th>\n",
       "      <td>80-99</td>\n",
       "      <td>89.5</td>\n",
       "      <td>4</td>\n",
       "      <td>358.0</td>\n",
       "      <td>43.0</td>\n",
       "      <td>1849.0</td>\n",
       "    </tr>\n",
       "    <tr>\n",
       "      <th>5</th>\n",
       "      <td>100-119</td>\n",
       "      <td>109.5</td>\n",
       "      <td>3</td>\n",
       "      <td>328.5</td>\n",
       "      <td>63.0</td>\n",
       "      <td>3969.0</td>\n",
       "    </tr>\n",
       "    <tr>\n",
       "      <th>6</th>\n",
       "      <td>120-139</td>\n",
       "      <td>129.5</td>\n",
       "      <td>1</td>\n",
       "      <td>129.5</td>\n",
       "      <td>83.0</td>\n",
       "      <td>6889.0</td>\n",
       "    </tr>\n",
       "    <tr>\n",
       "      <th>7</th>\n",
       "      <td>140-159</td>\n",
       "      <td>149.5</td>\n",
       "      <td>1</td>\n",
       "      <td>149.5</td>\n",
       "      <td>103.0</td>\n",
       "      <td>10609.0</td>\n",
       "    </tr>\n",
       "    <tr>\n",
       "      <th>8</th>\n",
       "      <td>160-179</td>\n",
       "      <td>169.5</td>\n",
       "      <td>1</td>\n",
       "      <td>169.5</td>\n",
       "      <td>123.0</td>\n",
       "      <td>15129.0</td>\n",
       "    </tr>\n",
       "  </tbody>\n",
       "</table>\n",
       "</div>"
      ],
      "text/plain": [
       "  Time (h)      x   f    x*f    x-m  (x-m)^2\n",
       "0     0-19    9.5  16  152.0  -37.0   1369.0\n",
       "1    20-39   29.5  13  383.5  -17.0    289.0\n",
       "2    40-59   49.5  17  841.5    3.0      9.0\n",
       "3    60-79   69.5   4  278.0   23.0    529.0\n",
       "4    80-99   89.5   4  358.0   43.0   1849.0\n",
       "5  100-119  109.5   3  328.5   63.0   3969.0\n",
       "6  120-139  129.5   1  129.5   83.0   6889.0\n",
       "7  140-159  149.5   1  149.5  103.0  10609.0\n",
       "8  160-179  169.5   1  169.5  123.0  15129.0"
      ]
     },
     "execution_count": 117,
     "metadata": {},
     "output_type": "execute_result"
    }
   ],
   "source": [
    "df2[\"(x-m)^2\"]=df2[\"x-m\"]**2\n",
    "df2"
   ]
  },
  {
   "cell_type": "code",
   "execution_count": 119,
   "id": "7b8de118",
   "metadata": {},
   "outputs": [
    {
     "data": {
      "text/html": [
       "<div>\n",
       "<style scoped>\n",
       "    .dataframe tbody tr th:only-of-type {\n",
       "        vertical-align: middle;\n",
       "    }\n",
       "\n",
       "    .dataframe tbody tr th {\n",
       "        vertical-align: top;\n",
       "    }\n",
       "\n",
       "    .dataframe thead th {\n",
       "        text-align: right;\n",
       "    }\n",
       "</style>\n",
       "<table border=\"1\" class=\"dataframe\">\n",
       "  <thead>\n",
       "    <tr style=\"text-align: right;\">\n",
       "      <th></th>\n",
       "      <th>Time (h)</th>\n",
       "      <th>x</th>\n",
       "      <th>f</th>\n",
       "      <th>x*f</th>\n",
       "      <th>x-m</th>\n",
       "      <th>(x-m)^2</th>\n",
       "      <th>f*((x-m)^2)</th>\n",
       "    </tr>\n",
       "  </thead>\n",
       "  <tbody>\n",
       "    <tr>\n",
       "      <th>0</th>\n",
       "      <td>0-19</td>\n",
       "      <td>9.5</td>\n",
       "      <td>16</td>\n",
       "      <td>152.0</td>\n",
       "      <td>-37.0</td>\n",
       "      <td>1369.0</td>\n",
       "      <td>21904.0</td>\n",
       "    </tr>\n",
       "    <tr>\n",
       "      <th>1</th>\n",
       "      <td>20-39</td>\n",
       "      <td>29.5</td>\n",
       "      <td>13</td>\n",
       "      <td>383.5</td>\n",
       "      <td>-17.0</td>\n",
       "      <td>289.0</td>\n",
       "      <td>3757.0</td>\n",
       "    </tr>\n",
       "    <tr>\n",
       "      <th>2</th>\n",
       "      <td>40-59</td>\n",
       "      <td>49.5</td>\n",
       "      <td>17</td>\n",
       "      <td>841.5</td>\n",
       "      <td>3.0</td>\n",
       "      <td>9.0</td>\n",
       "      <td>153.0</td>\n",
       "    </tr>\n",
       "    <tr>\n",
       "      <th>3</th>\n",
       "      <td>60-79</td>\n",
       "      <td>69.5</td>\n",
       "      <td>4</td>\n",
       "      <td>278.0</td>\n",
       "      <td>23.0</td>\n",
       "      <td>529.0</td>\n",
       "      <td>2116.0</td>\n",
       "    </tr>\n",
       "    <tr>\n",
       "      <th>4</th>\n",
       "      <td>80-99</td>\n",
       "      <td>89.5</td>\n",
       "      <td>4</td>\n",
       "      <td>358.0</td>\n",
       "      <td>43.0</td>\n",
       "      <td>1849.0</td>\n",
       "      <td>7396.0</td>\n",
       "    </tr>\n",
       "    <tr>\n",
       "      <th>5</th>\n",
       "      <td>100-119</td>\n",
       "      <td>109.5</td>\n",
       "      <td>3</td>\n",
       "      <td>328.5</td>\n",
       "      <td>63.0</td>\n",
       "      <td>3969.0</td>\n",
       "      <td>11907.0</td>\n",
       "    </tr>\n",
       "    <tr>\n",
       "      <th>6</th>\n",
       "      <td>120-139</td>\n",
       "      <td>129.5</td>\n",
       "      <td>1</td>\n",
       "      <td>129.5</td>\n",
       "      <td>83.0</td>\n",
       "      <td>6889.0</td>\n",
       "      <td>6889.0</td>\n",
       "    </tr>\n",
       "    <tr>\n",
       "      <th>7</th>\n",
       "      <td>140-159</td>\n",
       "      <td>149.5</td>\n",
       "      <td>1</td>\n",
       "      <td>149.5</td>\n",
       "      <td>103.0</td>\n",
       "      <td>10609.0</td>\n",
       "      <td>10609.0</td>\n",
       "    </tr>\n",
       "    <tr>\n",
       "      <th>8</th>\n",
       "      <td>160-179</td>\n",
       "      <td>169.5</td>\n",
       "      <td>1</td>\n",
       "      <td>169.5</td>\n",
       "      <td>123.0</td>\n",
       "      <td>15129.0</td>\n",
       "      <td>15129.0</td>\n",
       "    </tr>\n",
       "  </tbody>\n",
       "</table>\n",
       "</div>"
      ],
      "text/plain": [
       "  Time (h)      x   f    x*f    x-m  (x-m)^2  f*((x-m)^2)\n",
       "0     0-19    9.5  16  152.0  -37.0   1369.0      21904.0\n",
       "1    20-39   29.5  13  383.5  -17.0    289.0       3757.0\n",
       "2    40-59   49.5  17  841.5    3.0      9.0        153.0\n",
       "3    60-79   69.5   4  278.0   23.0    529.0       2116.0\n",
       "4    80-99   89.5   4  358.0   43.0   1849.0       7396.0\n",
       "5  100-119  109.5   3  328.5   63.0   3969.0      11907.0\n",
       "6  120-139  129.5   1  129.5   83.0   6889.0       6889.0\n",
       "7  140-159  149.5   1  149.5  103.0  10609.0      10609.0\n",
       "8  160-179  169.5   1  169.5  123.0  15129.0      15129.0"
      ]
     },
     "execution_count": 119,
     "metadata": {},
     "output_type": "execute_result"
    }
   ],
   "source": [
    "df2[\"f*((x-m)^2)\"]=df2[\"(x-m)^2\"]*df2[\"f\"]\n",
    "df2"
   ]
  },
  {
   "cell_type": "code",
   "execution_count": 122,
   "id": "4cbed534",
   "metadata": {},
   "outputs": [
    {
     "data": {
      "text/plain": [
       "36.790750495659886"
      ]
     },
     "execution_count": 122,
     "metadata": {},
     "output_type": "execute_result"
    }
   ],
   "source": [
    "std=(sum(df2[\"f*((x-m)^2)\"])/(sum(df2[\"f\"])-1))**0.5\n",
    "std"
   ]
  },
  {
   "cell_type": "markdown",
   "id": "dab36e77",
   "metadata": {},
   "source": [
    "# Part 2\n",
    "### Challenge 1"
   ]
  },
  {
   "cell_type": "code",
   "execution_count": 3,
   "id": "0dbcb204",
   "metadata": {},
   "outputs": [],
   "source": [
    "chances = {\n",
    "    (1,1),(1,2),(1,3),(1,4),(1,5),(1,6),\n",
    "    (2,1),(2,2),(2,3),(2,4),(2,5),(2,6),\n",
    "    (3,1),(3,2),(3,3),(3,4),(3,5),(3,6),\n",
    "    (4,1),(4,2),(4,3),(4,4),(4,5),(4,6),\n",
    "    (5,1),(5,2),(5,3),(5,4),(5,5),(5,6),\n",
    "    (6,1),(6,2),(6,3),(6,4),(6,5),(6,6),\n",
    "        }"
   ]
  },
  {
   "cell_type": "code",
   "execution_count": 9,
   "id": "d3f78955",
   "metadata": {},
   "outputs": [],
   "source": [
    "Dice1 = [1,2,3,4,5,6]\n",
    "Dice2 = [1,2,3,4,5,6]"
   ]
  },
  {
   "cell_type": "code",
   "execution_count": 10,
   "id": "214047c3",
   "metadata": {},
   "outputs": [
    {
     "name": "stdout",
     "output_type": "stream",
     "text": [
      "{(3, 4), (4, 3), (3, 1), (5, 4), (4, 6), (5, 1), (2, 2), (1, 6), (2, 5), (1, 3), (6, 2), (6, 5), (4, 2), (4, 5), (3, 3), (5, 6), (3, 6), (5, 3), (2, 4), (1, 2), (2, 1), (1, 5), (6, 1), (6, 4), (3, 2), (4, 1), (3, 5), (5, 2), (4, 4), (5, 5), (1, 1), (1, 4), (2, 3), (2, 6), (6, 6), (6, 3)}\n"
     ]
    }
   ],
   "source": [
    "print(chances)"
   ]
  },
  {
   "cell_type": "code",
   "execution_count": 39,
   "id": "f7612b83",
   "metadata": {},
   "outputs": [
    {
     "name": "stdout",
     "output_type": "stream",
     "text": [
      "Probability of Both values are greater than 5 is 1/36\n"
     ]
    }
   ],
   "source": [
    "print(\"Probability of Both values are greater than 5 is 1/36\")"
   ]
  },
  {
   "cell_type": "code",
   "execution_count": null,
   "id": "a0a190bc",
   "metadata": {},
   "outputs": [],
   "source": [
    "\"\"\"\n",
    "there is 36 possibilities and 18 of them give the even sum\n",
    "\"\"\""
   ]
  },
  {
   "cell_type": "code",
   "execution_count": 40,
   "id": "0b802043",
   "metadata": {},
   "outputs": [
    {
     "name": "stdout",
     "output_type": "stream",
     "text": [
      "Probability of The sum of values is even. is 18/36\n"
     ]
    }
   ],
   "source": [
    "print(\"Probability of The sum of values is even. is 18/36\")"
   ]
  },
  {
   "cell_type": "code",
   "execution_count": 41,
   "id": "8ff0629c",
   "metadata": {},
   "outputs": [
    {
     "name": "stdout",
     "output_type": "stream",
     "text": [
      "Probability of The maximum is the value of both rolls is 1/36\n"
     ]
    }
   ],
   "source": [
    "print(\"Probability of The maximum is the value of both rolls is 1/36\")"
   ]
  },
  {
   "cell_type": "markdown",
   "id": "2e3a6460",
   "metadata": {},
   "source": [
    "# Challenge 2"
   ]
  },
  {
   "cell_type": "code",
   "execution_count": null,
   "id": "23bf3170",
   "metadata": {},
   "outputs": [],
   "source": []
  }
 ],
 "metadata": {
  "kernelspec": {
   "display_name": "Python 3 (ipykernel)",
   "language": "python",
   "name": "python3"
  },
  "language_info": {
   "codemirror_mode": {
    "name": "ipython",
    "version": 3
   },
   "file_extension": ".py",
   "mimetype": "text/x-python",
   "name": "python",
   "nbconvert_exporter": "python",
   "pygments_lexer": "ipython3",
   "version": "3.9.12"
  }
 },
 "nbformat": 4,
 "nbformat_minor": 5
}
