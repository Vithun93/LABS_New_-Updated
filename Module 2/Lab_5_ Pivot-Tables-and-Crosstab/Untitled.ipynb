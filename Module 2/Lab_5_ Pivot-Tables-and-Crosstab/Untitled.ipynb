{
 "cells": [
  {
   "cell_type": "code",
   "execution_count": 1,
   "id": "f4732ed0",
   "metadata": {},
   "outputs": [
    {
     "name": "stdout",
     "output_type": "stream",
     "text": [
      "Requirement already satisfied: pandas in c:\\users\\vithushan\\anaconda3\\lib\\site-packages (1.4.2)\n",
      "Collecting profiling\n",
      "  Downloading profiling-0.1.3.tar.gz (36 kB)\n",
      "Requirement already satisfied: numpy>=1.18.5 in c:\\users\\vithushan\\anaconda3\\lib\\site-packages (from pandas) (1.21.5)\n",
      "Requirement already satisfied: python-dateutil>=2.8.1 in c:\\users\\vithushan\\anaconda3\\lib\\site-packages (from pandas) (2.8.2)\n",
      "Requirement already satisfied: pytz>=2020.1 in c:\\users\\vithushan\\anaconda3\\lib\\site-packages (from pandas) (2021.3)\n",
      "Collecting valuedispatch>=0.0.1\n",
      "  Downloading valuedispatch-0.0.1.tar.gz (1.8 kB)\n",
      "Requirement already satisfied: click>=4.1 in c:\\users\\vithushan\\anaconda3\\lib\\site-packages (from profiling) (8.0.4)\n",
      "Collecting click-default-group>=1.2\n",
      "  Downloading click-default-group-1.2.2.tar.gz (3.3 kB)\n",
      "Requirement already satisfied: six>=1.8.0 in c:\\users\\vithushan\\anaconda3\\lib\\site-packages (from profiling) (1.16.0)\n",
      "Collecting urwid>=1.2.1\n",
      "  Downloading urwid-2.1.2.tar.gz (634 kB)"
     ]
    },
    {
     "name": "stderr",
     "output_type": "stream",
     "text": [
      "  ERROR: Command errored out with exit status 1:\n",
      "   command: 'C:\\Users\\Vithushan\\anaconda3\\python.exe' -u -c 'import io, os, sys, setuptools, tokenize; sys.argv[0] = '\"'\"'C:\\\\Users\\\\Vithushan\\\\AppData\\\\Local\\\\Temp\\\\pip-install-eoxi1ta2\\\\profiling_9ed251878d1f43ea9bf884c4cfcaa9ad\\\\setup.py'\"'\"'; __file__='\"'\"'C:\\\\Users\\\\Vithushan\\\\AppData\\\\Local\\\\Temp\\\\pip-install-eoxi1ta2\\\\profiling_9ed251878d1f43ea9bf884c4cfcaa9ad\\\\setup.py'\"'\"';f = getattr(tokenize, '\"'\"'open'\"'\"', open)(__file__) if os.path.exists(__file__) else io.StringIO('\"'\"'from setuptools import setup; setup()'\"'\"');code = f.read().replace('\"'\"'\\r\\n'\"'\"', '\"'\"'\\n'\"'\"');f.close();exec(compile(code, __file__, '\"'\"'exec'\"'\"'))' bdist_wheel -d 'C:\\Users\\Vithushan\\AppData\\Local\\Temp\\pip-wheel-wkdbfzyo'\n",
      "       cwd: C:\\Users\\Vithushan\\AppData\\Local\\Temp\\pip-install-eoxi1ta2\\profiling_9ed251878d1f43ea9bf884c4cfcaa9ad\\\n",
      "  Complete output (30 lines):\n",
      "  running bdist_wheel\n",
      "  running build\n",
      "  running build_py\n",
      "  creating build\n",
      "  creating build\\lib.win-amd64-3.9\n",
      "  creating build\\lib.win-amd64-3.9\\profiling\n",
      "  copying profiling\\profiler.py -> build\\lib.win-amd64-3.9\\profiling\n",
      "  copying profiling\\sortkeys.py -> build\\lib.win-amd64-3.9\\profiling\n",
      "  copying profiling\\stats.py -> build\\lib.win-amd64-3.9\\profiling\n",
      "  copying profiling\\utils.py -> build\\lib.win-amd64-3.9\\profiling\n",
      "  copying profiling\\viewer.py -> build\\lib.win-amd64-3.9\\profiling\n",
      "  copying profiling\\__about__.py -> build\\lib.win-amd64-3.9\\profiling\n",
      "  copying profiling\\__init__.py -> build\\lib.win-amd64-3.9\\profiling\n",
      "  copying profiling\\__main__.py -> build\\lib.win-amd64-3.9\\profiling\n",
      "  creating build\\lib.win-amd64-3.9\\profiling\\remote\n",
      "  copying profiling\\remote\\asyncio.py -> build\\lib.win-amd64-3.9\\profiling\\remote\n",
      "  copying profiling\\remote\\background.py -> build\\lib.win-amd64-3.9\\profiling\\remote\n",
      "  copying profiling\\remote\\client.py -> build\\lib.win-amd64-3.9\\profiling\\remote\n"
     ]
    },
    {
     "name": "stdout",
     "output_type": "stream",
     "text": [
      "\n",
      "Requirement already satisfied: colorama in c:\\users\\vithushan\\anaconda3\\lib\\site-packages (from click>=4.1->profiling) (0.4.4)\n",
      "Building wheels for collected packages: profiling, click-default-group, urwid, valuedispatch\n",
      "  Building wheel for profiling (setup.py): started\n",
      "  Building wheel for profiling (setup.py): finished with status 'error'\n",
      "  Running setup.py clean for profiling\n",
      "  Building wheel for click-default-group (setup.py): started\n",
      "  Building wheel for click-default-group (setup.py): finished with status 'done'\n",
      "  Created wheel for click-default-group: filename=click_default_group-1.2.2-py3-none-any.whl size=3385 sha256=940743d41e5371bd81952205abfc8342684e342dc4a870bb121d5c501d3b36f2\n",
      "  Stored in directory: c:\\users\\vithushan\\appdata\\local\\pip\\cache\\wheels\\f1\\e3\\67\\f79591b232f0deb8e51317fa288eef8b996e2d6cf033bdc1a0\n",
      "  Building wheel for urwid (setup.py): started\n",
      "  Building wheel for urwid (setup.py): finished with status 'done'\n",
      "  Created wheel for urwid: filename=urwid-2.1.2-py3-none-any.whl size=235035 sha256=8cbf388240bd5732e13ff41a2680d2d668e194f7688b026458d110a061f8eb6a\n",
      "  Stored in directory: c:\\users\\vithushan\\appdata\\local\\pip\\cache\\wheels\\44\\ec\\04\\2c1080c3ee4e80e76d662ac35f0594a2a86f9df12095b05cb3\n",
      "  Building wheel for valuedispatch (setup.py): started\n",
      "  Building wheel for valuedispatch (setup.py): finished with status 'done'\n",
      "  Created wheel for valuedispatch: filename=valuedispatch-0.0.1-py3-none-any.whl size=2019 sha256=5113243e222a2a28c890a0c9613cb0e5e2b303c716912466ca0622e6dae57689\n",
      "  Stored in directory: c:\\users\\vithushan\\appdata\\local\\pip\\cache\\wheels\\66\\63\\c1\\6c46da4dd7c4847a7fe5ad89e47ba8979b1892441e92d83542\n",
      "Successfully built click-default-group urwid valuedispatch\n",
      "Failed to build profiling\n",
      "Installing collected packages: valuedispatch, urwid, click-default-group, profiling\n",
      "    Running setup.py install for profiling: started\n",
      "    Running setup.py install for profiling: finished with status 'error'\n"
     ]
    },
    {
     "name": "stderr",
     "output_type": "stream",
     "text": [
      "  copying profiling\\remote\\gevent.py -> build\\lib.win-amd64-3.9\\profiling\\remote\n",
      "  copying profiling\\remote\\select.py -> build\\lib.win-amd64-3.9\\profiling\\remote\n",
      "  copying profiling\\remote\\__init__.py -> build\\lib.win-amd64-3.9\\profiling\\remote\n",
      "  creating build\\lib.win-amd64-3.9\\profiling\\sampling\n",
      "  copying profiling\\sampling\\samplers.py -> build\\lib.win-amd64-3.9\\profiling\\sampling\n",
      "  copying profiling\\sampling\\__init__.py -> build\\lib.win-amd64-3.9\\profiling\\sampling\n",
      "  creating build\\lib.win-amd64-3.9\\profiling\\tracing\n",
      "  copying profiling\\tracing\\timers.py -> build\\lib.win-amd64-3.9\\profiling\\tracing\n",
      "  copying profiling\\tracing\\__init__.py -> build\\lib.win-amd64-3.9\\profiling\\tracing\n",
      "  running build_ext\n",
      "  building 'profiling.speedup' extension\n",
      "  error: Microsoft Visual C++ 14.0 or greater is required. Get it with \"Microsoft C++ Build Tools\": https://visualstudio.microsoft.com/visual-cpp-build-tools/\n",
      "  ----------------------------------------\n",
      "  ERROR: Failed building wheel for profiling\n",
      "    ERROR: Command errored out with exit status 1:\n",
      "     command: 'C:\\Users\\Vithushan\\anaconda3\\python.exe' -u -c 'import io, os, sys, setuptools, tokenize; sys.argv[0] = '\"'\"'C:\\\\Users\\\\Vithushan\\\\AppData\\\\Local\\\\Temp\\\\pip-install-eoxi1ta2\\\\profiling_9ed251878d1f43ea9bf884c4cfcaa9ad\\\\setup.py'\"'\"'; __file__='\"'\"'C:\\\\Users\\\\Vithushan\\\\AppData\\\\Local\\\\Temp\\\\pip-install-eoxi1ta2\\\\profiling_9ed251878d1f43ea9bf884c4cfcaa9ad\\\\setup.py'\"'\"';f = getattr(tokenize, '\"'\"'open'\"'\"', open)(__file__) if os.path.exists(__file__) else io.StringIO('\"'\"'from setuptools import setup; setup()'\"'\"');code = f.read().replace('\"'\"'\\r\\n'\"'\"', '\"'\"'\\n'\"'\"');f.close();exec(compile(code, __file__, '\"'\"'exec'\"'\"'))' install --record 'C:\\Users\\Vithushan\\AppData\\Local\\Temp\\pip-record-bztk8ls1\\install-record.txt' --single-version-externally-managed --compile --install-headers 'C:\\Users\\Vithushan\\anaconda3\\Include\\profiling'\n",
      "         cwd: C:\\Users\\Vithushan\\AppData\\Local\\Temp\\pip-install-eoxi1ta2\\profiling_9ed251878d1f43ea9bf884c4cfcaa9ad\\\n",
      "    Complete output (32 lines):\n",
      "    running install\n",
      "    C:\\Users\\Vithushan\\anaconda3\\lib\\site-packages\\setuptools\\command\\install.py:34: SetuptoolsDeprecationWarning: setup.py install is deprecated. Use build and pip and other standards-based tools.\n",
      "      warnings.warn(\n",
      "    running build\n",
      "    running build_py\n",
      "    creating build\n",
      "    creating build\\lib.win-amd64-3.9\n",
      "    creating build\\lib.win-amd64-3.9\\profiling\n",
      "    copying profiling\\profiler.py -> build\\lib.win-amd64-3.9\\profiling\n",
      "    copying profiling\\sortkeys.py -> build\\lib.win-amd64-3.9\\profiling\n",
      "    copying profiling\\stats.py -> build\\lib.win-amd64-3.9\\profiling\n",
      "    copying profiling\\utils.py -> build\\lib.win-amd64-3.9\\profiling\n",
      "    copying profiling\\viewer.py -> build\\lib.win-amd64-3.9\\profiling\n",
      "    copying profiling\\__about__.py -> build\\lib.win-amd64-3.9\\profiling\n",
      "    copying profiling\\__init__.py -> build\\lib.win-amd64-3.9\\profiling\n",
      "    copying profiling\\__main__.py -> build\\lib.win-amd64-3.9\\profiling\n",
      "    creating build\\lib.win-amd64-3.9\\profiling\\remote\n",
      "    copying profiling\\remote\\asyncio.py -> build\\lib.win-amd64-3.9\\profiling\\remote\n",
      "    copying profiling\\remote\\background.py -> build\\lib.win-amd64-3.9\\profiling\\remote\n",
      "    copying profiling\\remote\\client.py -> build\\lib.win-amd64-3.9\\profiling\\remote\n",
      "    copying profiling\\remote\\gevent.py -> build\\lib.win-amd64-3.9\\profiling\\remote\n",
      "    copying profiling\\remote\\select.py -> build\\lib.win-amd64-3.9\\profiling\\remote\n",
      "    copying profiling\\remote\\__init__.py -> build\\lib.win-amd64-3.9\\profiling\\remote\n",
      "    creating build\\lib.win-amd64-3.9\\profiling\\sampling\n",
      "    copying profiling\\sampling\\samplers.py -> build\\lib.win-amd64-3.9\\profiling\\sampling\n",
      "    copying profiling\\sampling\\__init__.py -> build\\lib.win-amd64-3.9\\profiling\\sampling\n",
      "    creating build\\lib.win-amd64-3.9\\profiling\\tracing\n",
      "    copying profiling\\tracing\\timers.py -> build\\lib.win-amd64-3.9\\profiling\\tracing\n",
      "    copying profiling\\tracing\\__init__.py -> build\\lib.win-amd64-3.9\\profiling\\tracing\n",
      "    running build_ext\n",
      "    building 'profiling.speedup' extension\n",
      "    error: Microsoft Visual C++ 14.0 or greater is required. Get it with \"Microsoft C++ Build Tools\": https://visualstudio.microsoft.com/visual-cpp-build-tools/\n",
      "    ----------------------------------------\n",
      "ERROR: Command errored out with exit status 1: 'C:\\Users\\Vithushan\\anaconda3\\python.exe' -u -c 'import io, os, sys, setuptools, tokenize; sys.argv[0] = '\"'\"'C:\\\\Users\\\\Vithushan\\\\AppData\\\\Local\\\\Temp\\\\pip-install-eoxi1ta2\\\\profiling_9ed251878d1f43ea9bf884c4cfcaa9ad\\\\setup.py'\"'\"'; __file__='\"'\"'C:\\\\Users\\\\Vithushan\\\\AppData\\\\Local\\\\Temp\\\\pip-install-eoxi1ta2\\\\profiling_9ed251878d1f43ea9bf884c4cfcaa9ad\\\\setup.py'\"'\"';f = getattr(tokenize, '\"'\"'open'\"'\"', open)(__file__) if os.path.exists(__file__) else io.StringIO('\"'\"'from setuptools import setup; setup()'\"'\"');code = f.read().replace('\"'\"'\\r\\n'\"'\"', '\"'\"'\\n'\"'\"');f.close();exec(compile(code, __file__, '\"'\"'exec'\"'\"'))' install --record 'C:\\Users\\Vithushan\\AppData\\Local\\Temp\\pip-record-bztk8ls1\\install-record.txt' --single-version-externally-managed --compile --install-headers 'C:\\Users\\Vithushan\\anaconda3\\Include\\profiling' Check the logs for full command output.\n"
     ]
    }
   ],
   "source": [
    "!pip install pandas profiling"
   ]
  },
  {
   "cell_type": "code",
   "execution_count": 6,
   "id": "09eb1585",
   "metadata": {},
   "outputs": [],
   "source": [
    "import pandas_profiling as prof"
   ]
  },
  {
   "cell_type": "code",
   "execution_count": 7,
   "id": "c8fa9198",
   "metadata": {},
   "outputs": [
    {
     "name": "stdout",
     "output_type": "stream",
     "text": [
      "Collecting phik==0.10.0\n",
      "  Downloading phik-0.10.0-py3-none-any.whl (599 kB)\n",
      "Requirement already satisfied: matplotlib>=2.2.3 in c:\\users\\vithushan\\anaconda3\\lib\\site-packages (from phik==0.10.0) (3.5.1)\n",
      "Requirement already satisfied: scipy>=1.1.0 in c:\\users\\vithushan\\anaconda3\\lib\\site-packages (from phik==0.10.0) (1.7.3)\n",
      "Requirement already satisfied: numpy>=1.15.4 in c:\\users\\vithushan\\anaconda3\\lib\\site-packages (from phik==0.10.0) (1.21.5)\n",
      "Requirement already satisfied: numba>=0.38.1 in c:\\users\\vithushan\\anaconda3\\lib\\site-packages (from phik==0.10.0) (0.55.1)\n",
      "Requirement already satisfied: pandas>=0.23.4 in c:\\users\\vithushan\\anaconda3\\lib\\site-packages (from phik==0.10.0) (1.4.2)\n",
      "Requirement already satisfied: joblib>=0.14.1 in c:\\users\\vithushan\\anaconda3\\lib\\site-packages (from phik==0.10.0) (1.1.0)\n",
      "Requirement already satisfied: kiwisolver>=1.0.1 in c:\\users\\vithushan\\anaconda3\\lib\\site-packages (from matplotlib>=2.2.3->phik==0.10.0) (1.3.2)\n",
      "Requirement already satisfied: fonttools>=4.22.0 in c:\\users\\vithushan\\anaconda3\\lib\\site-packages (from matplotlib>=2.2.3->phik==0.10.0) (4.25.0)\n",
      "Requirement already satisfied: pyparsing>=2.2.1 in c:\\users\\vithushan\\anaconda3\\lib\\site-packages (from matplotlib>=2.2.3->phik==0.10.0) (3.0.4)\n",
      "Requirement already satisfied: pillow>=6.2.0 in c:\\users\\vithushan\\anaconda3\\lib\\site-packages (from matplotlib>=2.2.3->phik==0.10.0) (9.0.1)\n",
      "Requirement already satisfied: packaging>=20.0 in c:\\users\\vithushan\\anaconda3\\lib\\site-packages (from matplotlib>=2.2.3->phik==0.10.0) (21.3)\n",
      "Requirement already satisfied: python-dateutil>=2.7 in c:\\users\\vithushan\\anaconda3\\lib\\site-packages (from matplotlib>=2.2.3->phik==0.10.0) (2.8.2)\n",
      "Requirement already satisfied: cycler>=0.10 in c:\\users\\vithushan\\anaconda3\\lib\\site-packages (from matplotlib>=2.2.3->phik==0.10.0) (0.11.0)\n",
      "Requirement already satisfied: setuptools in c:\\users\\vithushan\\anaconda3\\lib\\site-packages (from numba>=0.38.1->phik==0.10.0) (61.2.0)\n",
      "Requirement already satisfied: llvmlite<0.39,>=0.38.0rc1 in c:\\users\\vithushan\\anaconda3\\lib\\site-packages (from numba>=0.38.1->phik==0.10.0) (0.38.0)\n",
      "Requirement already satisfied: pytz>=2020.1 in c:\\users\\vithushan\\anaconda3\\lib\\site-packages (from pandas>=0.23.4->phik==0.10.0) (2021.3)\n",
      "Requirement already satisfied: six>=1.5 in c:\\users\\vithushan\\anaconda3\\lib\\site-packages (from python-dateutil>=2.7->matplotlib>=2.2.3->phik==0.10.0) (1.16.0)\n",
      "Installing collected packages: phik\n",
      "  Attempting uninstall: phik\n",
      "    Found existing installation: phik 0.12.2\n",
      "    Uninstalling phik-0.12.2:\n",
      "      Successfully uninstalled phik-0.12.2\n",
      "Successfully installed phik-0.10.0\n"
     ]
    },
    {
     "name": "stderr",
     "output_type": "stream",
     "text": [
      "ERROR: pip's dependency resolver does not currently take into account all the packages that are installed. This behaviour is the source of the following dependency conflicts.\n",
      "pandas-profiling 3.2.0 requires phik>=0.11.1, but you have phik 0.10.0 which is incompatible.\n"
     ]
    }
   ],
   "source": [
    "!pip install phik==0.10.0"
   ]
  },
  {
   "cell_type": "code",
   "execution_count": 8,
   "id": "39794319",
   "metadata": {},
   "outputs": [],
   "source": [
    "import phik\n"
   ]
  },
  {
   "cell_type": "code",
   "execution_count": null,
   "id": "1fedec54",
   "metadata": {},
   "outputs": [],
   "source": []
  }
 ],
 "metadata": {
  "kernelspec": {
   "display_name": "Python 3 (ipykernel)",
   "language": "python",
   "name": "python3"
  },
  "language_info": {
   "codemirror_mode": {
    "name": "ipython",
    "version": 3
   },
   "file_extension": ".py",
   "mimetype": "text/x-python",
   "name": "python",
   "nbconvert_exporter": "python",
   "pygments_lexer": "ipython3",
   "version": "3.9.12"
  }
 },
 "nbformat": 4,
 "nbformat_minor": 5
}
