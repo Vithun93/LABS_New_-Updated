{
 "cells": [
  {
   "cell_type": "code",
   "execution_count": null,
   "id": "c680bcb9",
   "metadata": {},
   "outputs": [],
   "source": [
    "yf.download(tickers=\"\",[\"close\"])\n",
    "\n",
    "data(\"differ\")=data[\"close\"].diff() - to make it stationary"
   ]
  },
  {
   "cell_type": "code",
   "execution_count": 23,
   "id": "57b5fb24",
   "metadata": {},
   "outputs": [],
   "source": [
    "import yfinance as yf\n",
    "import pandas as pd"
   ]
  },
  {
   "cell_type": "code",
   "execution_count": 24,
   "id": "2d9b14c3",
   "metadata": {},
   "outputs": [
    {
     "data": {
      "text/html": [
       "<div>\n",
       "<style scoped>\n",
       "    .dataframe tbody tr th:only-of-type {\n",
       "        vertical-align: middle;\n",
       "    }\n",
       "\n",
       "    .dataframe tbody tr th {\n",
       "        vertical-align: top;\n",
       "    }\n",
       "\n",
       "    .dataframe thead th {\n",
       "        text-align: right;\n",
       "    }\n",
       "</style>\n",
       "<table border=\"1\" class=\"dataframe\">\n",
       "  <thead>\n",
       "    <tr style=\"text-align: right;\">\n",
       "      <th></th>\n",
       "      <th>Open</th>\n",
       "      <th>High</th>\n",
       "      <th>Low</th>\n",
       "      <th>Close</th>\n",
       "      <th>Volume</th>\n",
       "      <th>Dividends</th>\n",
       "      <th>Stock Splits</th>\n",
       "    </tr>\n",
       "    <tr>\n",
       "      <th>Date</th>\n",
       "      <th></th>\n",
       "      <th></th>\n",
       "      <th></th>\n",
       "      <th></th>\n",
       "      <th></th>\n",
       "      <th></th>\n",
       "      <th></th>\n",
       "    </tr>\n",
       "  </thead>\n",
       "  <tbody>\n",
       "    <tr>\n",
       "      <th>2020-09-06</th>\n",
       "      <td>10167.216797</td>\n",
       "      <td>10353.927734</td>\n",
       "      <td>10056.885742</td>\n",
       "      <td>10280.351562</td>\n",
       "      <td>37071460174</td>\n",
       "      <td>0</td>\n",
       "      <td>0</td>\n",
       "    </tr>\n",
       "    <tr>\n",
       "      <th>2020-09-07</th>\n",
       "      <td>10280.998047</td>\n",
       "      <td>10399.153320</td>\n",
       "      <td>9916.493164</td>\n",
       "      <td>10369.563477</td>\n",
       "      <td>33703098409</td>\n",
       "      <td>0</td>\n",
       "      <td>0</td>\n",
       "    </tr>\n",
       "    <tr>\n",
       "      <th>2020-09-08</th>\n",
       "      <td>10369.306641</td>\n",
       "      <td>10414.775391</td>\n",
       "      <td>9945.110352</td>\n",
       "      <td>10131.516602</td>\n",
       "      <td>33430927462</td>\n",
       "      <td>0</td>\n",
       "      <td>0</td>\n",
       "    </tr>\n",
       "    <tr>\n",
       "      <th>2020-09-09</th>\n",
       "      <td>10134.151367</td>\n",
       "      <td>10350.542969</td>\n",
       "      <td>10017.250977</td>\n",
       "      <td>10242.347656</td>\n",
       "      <td>24128292755</td>\n",
       "      <td>0</td>\n",
       "      <td>0</td>\n",
       "    </tr>\n",
       "    <tr>\n",
       "      <th>2020-09-10</th>\n",
       "      <td>10242.330078</td>\n",
       "      <td>10503.912109</td>\n",
       "      <td>10238.135742</td>\n",
       "      <td>10363.138672</td>\n",
       "      <td>54406443211</td>\n",
       "      <td>0</td>\n",
       "      <td>0</td>\n",
       "    </tr>\n",
       "    <tr>\n",
       "      <th>...</th>\n",
       "      <td>...</td>\n",
       "      <td>...</td>\n",
       "      <td>...</td>\n",
       "      <td>...</td>\n",
       "      <td>...</td>\n",
       "      <td>...</td>\n",
       "      <td>...</td>\n",
       "    </tr>\n",
       "    <tr>\n",
       "      <th>2022-09-02</th>\n",
       "      <td>20126.072266</td>\n",
       "      <td>20401.568359</td>\n",
       "      <td>19814.765625</td>\n",
       "      <td>19969.771484</td>\n",
       "      <td>29123998928</td>\n",
       "      <td>0</td>\n",
       "      <td>0</td>\n",
       "    </tr>\n",
       "    <tr>\n",
       "      <th>2022-09-03</th>\n",
       "      <td>19969.718750</td>\n",
       "      <td>20037.009766</td>\n",
       "      <td>19698.355469</td>\n",
       "      <td>19832.087891</td>\n",
       "      <td>23613051457</td>\n",
       "      <td>0</td>\n",
       "      <td>0</td>\n",
       "    </tr>\n",
       "    <tr>\n",
       "      <th>2022-09-04</th>\n",
       "      <td>19832.470703</td>\n",
       "      <td>19999.689453</td>\n",
       "      <td>19636.816406</td>\n",
       "      <td>19986.712891</td>\n",
       "      <td>25245861652</td>\n",
       "      <td>0</td>\n",
       "      <td>0</td>\n",
       "    </tr>\n",
       "    <tr>\n",
       "      <th>2022-09-05</th>\n",
       "      <td>19988.789062</td>\n",
       "      <td>20031.160156</td>\n",
       "      <td>19673.046875</td>\n",
       "      <td>19812.371094</td>\n",
       "      <td>28813460025</td>\n",
       "      <td>0</td>\n",
       "      <td>0</td>\n",
       "    </tr>\n",
       "    <tr>\n",
       "      <th>2022-09-06</th>\n",
       "      <td>19805.691406</td>\n",
       "      <td>20153.085938</td>\n",
       "      <td>19729.750000</td>\n",
       "      <td>19909.908203</td>\n",
       "      <td>32546906112</td>\n",
       "      <td>0</td>\n",
       "      <td>0</td>\n",
       "    </tr>\n",
       "  </tbody>\n",
       "</table>\n",
       "<p>731 rows × 7 columns</p>\n",
       "</div>"
      ],
      "text/plain": [
       "                    Open          High           Low         Close  \\\n",
       "Date                                                                 \n",
       "2020-09-06  10167.216797  10353.927734  10056.885742  10280.351562   \n",
       "2020-09-07  10280.998047  10399.153320   9916.493164  10369.563477   \n",
       "2020-09-08  10369.306641  10414.775391   9945.110352  10131.516602   \n",
       "2020-09-09  10134.151367  10350.542969  10017.250977  10242.347656   \n",
       "2020-09-10  10242.330078  10503.912109  10238.135742  10363.138672   \n",
       "...                  ...           ...           ...           ...   \n",
       "2022-09-02  20126.072266  20401.568359  19814.765625  19969.771484   \n",
       "2022-09-03  19969.718750  20037.009766  19698.355469  19832.087891   \n",
       "2022-09-04  19832.470703  19999.689453  19636.816406  19986.712891   \n",
       "2022-09-05  19988.789062  20031.160156  19673.046875  19812.371094   \n",
       "2022-09-06  19805.691406  20153.085938  19729.750000  19909.908203   \n",
       "\n",
       "                 Volume  Dividends  Stock Splits  \n",
       "Date                                              \n",
       "2020-09-06  37071460174          0             0  \n",
       "2020-09-07  33703098409          0             0  \n",
       "2020-09-08  33430927462          0             0  \n",
       "2020-09-09  24128292755          0             0  \n",
       "2020-09-10  54406443211          0             0  \n",
       "...                 ...        ...           ...  \n",
       "2022-09-02  29123998928          0             0  \n",
       "2022-09-03  23613051457          0             0  \n",
       "2022-09-04  25245861652          0             0  \n",
       "2022-09-05  28813460025          0             0  \n",
       "2022-09-06  32546906112          0             0  \n",
       "\n",
       "[731 rows x 7 columns]"
      ]
     },
     "execution_count": 24,
     "metadata": {},
     "output_type": "execute_result"
    }
   ],
   "source": [
    "bitcoin=yf.Ticker(\"BTC-USD\")\n",
    "bitcoin_data= bitcoin.history(period=\"2y\")\n",
    "bitcoin_data"
   ]
  },
  {
   "cell_type": "code",
   "execution_count": null,
   "id": "0764d383",
   "metadata": {},
   "outputs": [],
   "source": []
  },
  {
   "cell_type": "code",
   "execution_count": 26,
   "id": "e88f9d86",
   "metadata": {
    "scrolled": false
   },
   "outputs": [
    {
     "name": "stdout",
     "output_type": "stream",
     "text": [
      "[*********************100%***********************]  1 of 1 completed\n"
     ]
    },
    {
     "data": {
      "text/html": [
       "<div>\n",
       "<style scoped>\n",
       "    .dataframe tbody tr th:only-of-type {\n",
       "        vertical-align: middle;\n",
       "    }\n",
       "\n",
       "    .dataframe tbody tr th {\n",
       "        vertical-align: top;\n",
       "    }\n",
       "\n",
       "    .dataframe thead th {\n",
       "        text-align: right;\n",
       "    }\n",
       "</style>\n",
       "<table border=\"1\" class=\"dataframe\">\n",
       "  <thead>\n",
       "    <tr style=\"text-align: right;\">\n",
       "      <th></th>\n",
       "      <th>Close</th>\n",
       "    </tr>\n",
       "    <tr>\n",
       "      <th>Date</th>\n",
       "      <th></th>\n",
       "    </tr>\n",
       "  </thead>\n",
       "  <tbody>\n",
       "    <tr>\n",
       "      <th>2014-09-17</th>\n",
       "      <td>457.334015</td>\n",
       "    </tr>\n",
       "    <tr>\n",
       "      <th>2014-09-18</th>\n",
       "      <td>424.440002</td>\n",
       "    </tr>\n",
       "    <tr>\n",
       "      <th>2014-09-19</th>\n",
       "      <td>394.795990</td>\n",
       "    </tr>\n",
       "    <tr>\n",
       "      <th>2014-09-20</th>\n",
       "      <td>408.903992</td>\n",
       "    </tr>\n",
       "    <tr>\n",
       "      <th>2014-09-21</th>\n",
       "      <td>398.821014</td>\n",
       "    </tr>\n",
       "    <tr>\n",
       "      <th>...</th>\n",
       "      <td>...</td>\n",
       "    </tr>\n",
       "    <tr>\n",
       "      <th>2022-09-02</th>\n",
       "      <td>19969.771484</td>\n",
       "    </tr>\n",
       "    <tr>\n",
       "      <th>2022-09-03</th>\n",
       "      <td>19832.087891</td>\n",
       "    </tr>\n",
       "    <tr>\n",
       "      <th>2022-09-04</th>\n",
       "      <td>19986.712891</td>\n",
       "    </tr>\n",
       "    <tr>\n",
       "      <th>2022-09-05</th>\n",
       "      <td>19812.371094</td>\n",
       "    </tr>\n",
       "    <tr>\n",
       "      <th>2022-09-06</th>\n",
       "      <td>19909.908203</td>\n",
       "    </tr>\n",
       "  </tbody>\n",
       "</table>\n",
       "<p>2912 rows × 1 columns</p>\n",
       "</div>"
      ],
      "text/plain": [
       "                   Close\n",
       "Date                    \n",
       "2014-09-17    457.334015\n",
       "2014-09-18    424.440002\n",
       "2014-09-19    394.795990\n",
       "2014-09-20    408.903992\n",
       "2014-09-21    398.821014\n",
       "...                  ...\n",
       "2022-09-02  19969.771484\n",
       "2022-09-03  19832.087891\n",
       "2022-09-04  19986.712891\n",
       "2022-09-05  19812.371094\n",
       "2022-09-06  19909.908203\n",
       "\n",
       "[2912 rows x 1 columns]"
      ]
     },
     "execution_count": 26,
     "metadata": {},
     "output_type": "execute_result"
    }
   ],
   "source": [
    "bit_data=yf.download(tickers=\"BTC-USD\")[\"Close\"]\n",
    "bit_df=pd.DataFrame(bit_data)\n",
    "bit_df"
   ]
  },
  {
   "cell_type": "code",
   "execution_count": 29,
   "id": "2723ec93",
   "metadata": {},
   "outputs": [
    {
     "data": {
      "text/html": [
       "<div>\n",
       "<style scoped>\n",
       "    .dataframe tbody tr th:only-of-type {\n",
       "        vertical-align: middle;\n",
       "    }\n",
       "\n",
       "    .dataframe tbody tr th {\n",
       "        vertical-align: top;\n",
       "    }\n",
       "\n",
       "    .dataframe thead th {\n",
       "        text-align: right;\n",
       "    }\n",
       "</style>\n",
       "<table border=\"1\" class=\"dataframe\">\n",
       "  <thead>\n",
       "    <tr style=\"text-align: right;\">\n",
       "      <th></th>\n",
       "      <th>Close</th>\n",
       "    </tr>\n",
       "    <tr>\n",
       "      <th>Date</th>\n",
       "      <th></th>\n",
       "    </tr>\n",
       "  </thead>\n",
       "  <tbody>\n",
       "    <tr>\n",
       "      <th>2014-09-17</th>\n",
       "      <td>457.334015</td>\n",
       "    </tr>\n",
       "    <tr>\n",
       "      <th>2014-09-18</th>\n",
       "      <td>424.440002</td>\n",
       "    </tr>\n",
       "    <tr>\n",
       "      <th>2014-09-19</th>\n",
       "      <td>394.795990</td>\n",
       "    </tr>\n",
       "    <tr>\n",
       "      <th>2014-09-20</th>\n",
       "      <td>408.903992</td>\n",
       "    </tr>\n",
       "    <tr>\n",
       "      <th>2014-09-21</th>\n",
       "      <td>398.821014</td>\n",
       "    </tr>\n",
       "    <tr>\n",
       "      <th>...</th>\n",
       "      <td>...</td>\n",
       "    </tr>\n",
       "    <tr>\n",
       "      <th>2022-09-02</th>\n",
       "      <td>19969.771484</td>\n",
       "    </tr>\n",
       "    <tr>\n",
       "      <th>2022-09-03</th>\n",
       "      <td>19832.087891</td>\n",
       "    </tr>\n",
       "    <tr>\n",
       "      <th>2022-09-04</th>\n",
       "      <td>19986.712891</td>\n",
       "    </tr>\n",
       "    <tr>\n",
       "      <th>2022-09-05</th>\n",
       "      <td>19812.371094</td>\n",
       "    </tr>\n",
       "    <tr>\n",
       "      <th>2022-09-06</th>\n",
       "      <td>19909.908203</td>\n",
       "    </tr>\n",
       "  </tbody>\n",
       "</table>\n",
       "<p>2912 rows × 1 columns</p>\n",
       "</div>"
      ],
      "text/plain": [
       "                   Close\n",
       "Date                    \n",
       "2014-09-17    457.334015\n",
       "2014-09-18    424.440002\n",
       "2014-09-19    394.795990\n",
       "2014-09-20    408.903992\n",
       "2014-09-21    398.821014\n",
       "...                  ...\n",
       "2022-09-02  19969.771484\n",
       "2022-09-03  19832.087891\n",
       "2022-09-04  19986.712891\n",
       "2022-09-05  19812.371094\n",
       "2022-09-06  19909.908203\n",
       "\n",
       "[2912 rows x 1 columns]"
      ]
     },
     "execution_count": 29,
     "metadata": {},
     "output_type": "execute_result"
    }
   ],
   "source": [
    "bit_df.index=pd.to_datetime(bit_df.index)\n",
    "bit_df"
   ]
  },
  {
   "cell_type": "code",
   "execution_count": 30,
   "id": "440d0182",
   "metadata": {},
   "outputs": [],
   "source": [
    "import matplotlib.pyplot as plt\n",
    "import seaborn as sns"
   ]
  },
  {
   "cell_type": "code",
   "execution_count": 41,
   "id": "70e907f4",
   "metadata": {},
   "outputs": [
    {
     "name": "stderr",
     "output_type": "stream",
     "text": [
      "C:\\Users\\Vithushan\\anaconda3\\lib\\site-packages\\seaborn\\_decorators.py:36: FutureWarning: Pass the following variables as keyword args: x, y. From version 0.12, the only valid positional argument will be `data`, and passing other arguments without an explicit keyword will result in an error or misinterpretation.\n",
      "  warnings.warn(\n"
     ]
    },
    {
     "data": {
      "image/png": "[encoded data removed]",
      "text/plain": [
       "<Figure size 864x576 with 1 Axes>"
      ]
     },
     "metadata": {
      "needs_background": "light"
     },
     "output_type": "display_data"
    }
   ],
   "source": [
    "fig = plt.gcf()\n",
    "fig.set_size_inches(12, 8)\n",
    "sns.lineplot (bit_df.index,bit_df.Close)\n",
    "plt.title('Bitcoin Price')\n",
    "plt.show;\n"
   ]
  },
  {
   "cell_type": "code",
   "execution_count": 42,
   "id": "655c70a2",
   "metadata": {},
   "outputs": [],
   "source": [
    "from statsmodels.tsa.stattools import adfuller"
   ]
  },
  {
   "cell_type": "code",
   "execution_count": 43,
   "id": "406548cd",
   "metadata": {},
   "outputs": [
    {
     "name": "stdout",
     "output_type": "stream",
     "text": [
      "ADF Statistic: -1.665443614015314\n",
      "n_lags: 0.4489991017832115\n",
      "p-value: 0.4489991017832115\n",
      "Critial Values:\n",
      "   1%, -3.432620250421088\n",
      "Critial Values:\n",
      "   5%, -2.8625430431586545\n",
      "Critial Values:\n",
      "   10%, -2.567303948779845\n"
     ]
    }
   ],
   "source": [
    "result = adfuller(bit_df)\n",
    "print(f'ADF Statistic: {result[0]}')\n",
    "print(f'n_lags: {result[1]}')\n",
    "print(f'p-value: {result[1]}')\n",
    "for key, value in result[4].items():\n",
    "    print('Critial Values:')\n",
    "    print(f'   {key}, {value}')"
   ]
  },
  {
   "cell_type": "code",
   "execution_count": 44,
   "id": "78645b09",
   "metadata": {},
   "outputs": [
    {
     "data": {
      "text/plain": [
       "(-1.665443614015314,\n",
       " 0.4489991017832115,\n",
       " 28,\n",
       " 2883,\n",
       " {'1%': -3.432620250421088,\n",
       "  '5%': -2.8625430431586545,\n",
       "  '10%': -2.567303948779845},\n",
       " 46704.56180258502)"
      ]
     },
     "execution_count": 44,
     "metadata": {},
     "output_type": "execute_result"
    }
   ],
   "source": [
    "adfuller(bit_df)"
   ]
  },
  {
   "cell_type": "code",
   "execution_count": 45,
   "id": "b74ea933",
   "metadata": {},
   "outputs": [],
   "source": [
    "from statsmodels.tsa.stattools import kpss"
   ]
  },
  {
   "cell_type": "code",
   "execution_count": 46,
   "id": "fb3c223a",
   "metadata": {},
   "outputs": [
    {
     "name": "stderr",
     "output_type": "stream",
     "text": [
      "C:\\Users\\Vithushan\\anaconda3\\lib\\site-packages\\statsmodels\\tsa\\stattools.py:2018: InterpolationWarning: The test statistic is outside of the range of p-values available in the\n",
      "look-up table. The actual p-value is smaller than the p-value returned.\n",
      "\n",
      "  warnings.warn(\n"
     ]
    },
    {
     "data": {
      "text/plain": [
       "(5.884378415490255,\n",
       " 0.01,\n",
       " 31,\n",
       " {'10%': 0.347, '5%': 0.463, '2.5%': 0.574, '1%': 0.739})"
      ]
     },
     "execution_count": 46,
     "metadata": {},
     "output_type": "execute_result"
    }
   ],
   "source": [
    "kpss(bit_df)"
   ]
  },
  {
   "cell_type": "code",
   "execution_count": null,
   "id": "34cc5f88",
   "metadata": {},
   "outputs": [],
   "source": []
  }
 ],
 "metadata": {
  "kernelspec": {
   "display_name": "Python 3 (ipykernel)",
   "language": "python",
   "name": "python3"
  },
  "language_info": {
   "codemirror_mode": {
    "name": "ipython",
    "version": 3
   },
   "file_extension": ".py",
   "mimetype": "text/x-python",
   "name": "python",
   "nbconvert_exporter": "python",
   "pygments_lexer": "ipython3",
   "version": "3.9.12"
  }
 },
 "nbformat": 4,
 "nbformat_minor": 5
}
