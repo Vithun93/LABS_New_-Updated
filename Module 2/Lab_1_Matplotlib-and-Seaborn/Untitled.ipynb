{
 "cells": [
  {
   "cell_type": "code",
   "execution_count": 2,
   "id": "df2c9591",
   "metadata": {},
   "outputs": [
    {
     "data": {
      "text/plain": [
       "<AxesSubplot:xlabel='var1', ylabel='var2'>"
      ]
     },
     "execution_count": 2,
     "metadata": {},
     "output_type": "execute_result"
    },
    {
     "data": {
      "image/png": "[encoded data removed]",
      "text/plain": [
       "<Figure size 576x288 with 1 Axes>"
      ]
     },
     "metadata": {},
     "output_type": "display_data"
    }
   ],
   "source": [
    "import pandas as pd\n",
    "import seaborn as sns\n",
    "import matplotlib.style \n",
    "#create data\n",
    "df = pd.DataFrame({\"var1\": [25, 12, 15, 14, 19, 23, 25, 29],\n",
    "\"var2\": [5, 7, 7, 9, 12, 9, 9, 4],\n",
    "\"var3\": [11, 8, 10, 6, 6, 5, 9, 12]})\n",
    "#define figure size\n",
    "sns.set(rc={\"figure.figsize\":(8, 4)}) #width=8, height=4\n",
    "#display scatterplot\n",
    "sns.scatterplot(data=df, x=\"var1\", y=\"var2\")"
   ]
  },
  {
   "cell_type": "code",
   "execution_count": null,
   "id": "f3d3e76f",
   "metadata": {},
   "outputs": [],
   "source": [
    "Challenge 3\n",
    "Import the titanic dataset and store it in a variable called titanic. You can find the dataset in Ironhack's database:\n",
    "db: titanic\n",
    "table: titanic\n",
    "import pandas as pd\n",
    "# your code here\n",
    "titanic=pd.read_csv(r\"C:\\Users\\Vithushan\\Desktop\\titanic.csv\")\n",
    "titanic\n",
    "​\n",
    "titanic2=pd.DataFrame(titanic)\n",
    "titanic2\n",
    "Explore the titanic dataset using Pandas dtypes.\n",
    "titanic.dtypes\n",
    "# your code here\n",
    "titanic.dtypes\n",
    "What are your numerical variables? What are your categorical variables?\n",
    "Hint: Use Pandas select_dtypes.\n",
    "\n",
    "# NUMERICAL VARIABLES\n",
    "# your code here\n",
    "# CATEGORICAL VARIABLES\n",
    "# your code here\n",
    "Set the plot style to classic and the figure size to (12,6).\n",
    "Hint: To set the style you can use matplotlib or seaborn functions. Do some research on the matter.\n",
    "\n",
    "# your code here\n",
    "Use the right visulalization to show the distribution of column Age.\n",
    "# your code here\n",
    "Use subplots and plot the distribution of the Age with bins equal to 10, 20 and 50.\n",
    "# your code here\n",
    "How does the bin size affect your plot?\n",
    "\"\"\"\n",
    "your comments here\n",
    "\"\"\"\n",
    "Use seaborn to show the distribution of column Age.\n",
    "# your code here\n",
    "Use the right plot to visualize column Gender. There are 2 ways of doing it. Do it both ways.\n",
    "Hint: Use matplotlib and seaborn.\n",
    "\n",
    "# Method 1 - matplotlib\n",
    "# your code here\n",
    "# Method 2 - seaborn\n",
    "# your code here\n",
    "Use the right plot to visualize the column Pclass.\n",
    "# your code here\n",
    "We would like to have in one single plot the summary statistics of the feature Age. What kind of plot would you use? Plot it.\n",
    "# your code here\n",
    "\"\"\"\n",
    "your comments here\n",
    "\"\"\"\n",
    "What does the last plot tell you about the feature Age?\n",
    "\"\"\"\n",
    "your comments here\n",
    "\"\"\"\n",
    "Now in addition to the summary statistics, we want to have in the same plot the distribution of Age. What kind of plot would you use? Plot it.\n",
    "# your code here\n",
    "What additional information does the last plot provide about feature Age?\n",
    "\"\"\"\n",
    "your comments here\n",
    "\"\"\"\n",
    "We suspect that there is a linear relationship between Fare and Age. Use the right plot to show the relationship between these 2 features. There are 2 ways, please do it both ways.\n",
    "Hint: Use matplotlib and seaborn.\n",
    "\n",
    "# Method 1 - matplotlib\n",
    "# your code here\n",
    "# Method 2 - seaborn\n",
    "# your code here\n",
    "Plot the correlation matrix using seaborn.\n",
    "# your code here\n",
    "What are the most correlated features?\n",
    "\"\"\"\n",
    "your comments here\n",
    "\"\"\"\n",
    "Use the most appropriate plot to display the summary statistics of Age depending on Pclass.\n",
    "# your code here\n",
    "Use seaborn to plot the distribution of Age based on the Gender.\n",
    "Hint: Use Facetgrid.\n",
    "\n",
    "# your code here\n",
    "# your code here"
   ]
  }
 ],
 "metadata": {
  "kernelspec": {
   "display_name": "Python 3 (ipykernel)",
   "language": "python",
   "name": "python3"
  },
  "language_info": {
   "codemirror_mode": {
    "name": "ipython",
    "version": 3
   },
   "file_extension": ".py",
   "mimetype": "text/x-python",
   "name": "python",
   "nbconvert_exporter": "python",
   "pygments_lexer": "ipython3",
   "version": "3.9.12"
  }
 },
 "nbformat": 4,
 "nbformat_minor": 5
}
